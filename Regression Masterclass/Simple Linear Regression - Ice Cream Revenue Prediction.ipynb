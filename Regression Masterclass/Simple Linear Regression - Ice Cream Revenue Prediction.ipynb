{
 "cells": [
  {
   "cell_type": "markdown",
   "source": "\n# CODE TO PERFORM SIMPLE LINEAR REGRESSION\n\n\n",
   "metadata": {
    "cell_id": "8860e473-8ba5-471c-929d-d7165c8b20f7",
    "deepnote_cell_type": "markdown",
    "deepnote_cell_height": 134
   }
  },
  {
   "cell_type": "markdown",
   "source": "# PROBLEM STATEMENT",
   "metadata": {
    "cell_id": "00001-60634515-74e3-4815-9d43-79cee4cdc093",
    "deepnote_cell_type": "markdown",
    "deepnote_cell_height": 82
   }
  },
  {
   "cell_type": "markdown",
   "source": "You own an ice cream business and you would like to create a model that could predict the daily revenue in dollars based on the outside air temperature (degC). You decide that a Linear Regression model might be a good candidate to solve this problem.  \nData set:\n- Independant variable X: Outside Air Temperature\n- Dependant variable Y: Overall daily revenue generated in dollars ",
   "metadata": {
    "cell_id": "00002-51613af0-35a5-47a2-b05e-46d57d8c4cd3",
    "deepnote_cell_type": "markdown",
    "deepnote_cell_height": 195.34375
   }
  },
  {
   "cell_type": "markdown",
   "source": "# LIBRARIES IMPORT\n",
   "metadata": {
    "cell_id": "00004-77f0612d-491f-40a8-8668-c7a6c0916739",
    "deepnote_cell_type": "markdown",
    "deepnote_cell_height": 82
   }
  },
  {
   "cell_type": "code",
   "metadata": {
    "cell_id": "00005-67246419-d997-49ca-a42a-6f7c1fd10c4b",
    "deepnote_to_be_reexecuted": false,
    "source_hash": "44b92541",
    "execution_start": 1658131952608,
    "execution_millis": 2611,
    "deepnote_cell_type": "code",
    "deepnote_cell_height": 153
   },
   "source": "import pandas as pd\nimport numpy as np\nimport matplotlib.pyplot as plt\nimport seaborn as sns\n%matplotlib inline",
   "execution_count": 1,
   "outputs": []
  },
  {
   "cell_type": "markdown",
   "source": "# IMPORT DATASET",
   "metadata": {
    "cell_id": "00006-7bb875be-5d4e-4686-8698-016343566199",
    "deepnote_cell_type": "markdown",
    "deepnote_cell_height": 82
   }
  },
  {
   "cell_type": "code",
   "metadata": {
    "cell_id": "00007-dc2d3ceb-2a79-4387-b4d6-1b3402988b61",
    "deepnote_to_be_reexecuted": false,
    "source_hash": "1ea370a4",
    "execution_start": 1658131955225,
    "execution_millis": 6,
    "deepnote_cell_type": "code",
    "deepnote_cell_height": 81
   },
   "source": "IceCream = pd.read_csv(\"IceCreamData.csv\")",
   "execution_count": 2,
   "outputs": []
  },
  {
   "cell_type": "code",
   "metadata": {
    "cell_id": "00008-399bab8f-9e2b-4735-bc46-c990cdcc5783",
    "deepnote_to_be_reexecuted": false,
    "source_hash": "f57e5872",
    "execution_start": 1658131958172,
    "execution_millis": 135,
    "deepnote_cell_type": "code",
    "deepnote_cell_height": 600,
    "deepnote_output_heights": [
     382.1875
    ]
   },
   "source": "IceCream.head(100)",
   "execution_count": 3,
   "outputs": [
    {
     "output_type": "execute_result",
     "execution_count": 3,
     "data": {
      "application/vnd.deepnote.dataframe.v3+json": {
       "column_count": 2,
       "row_count": 100,
       "columns": [
        {
         "name": "Temperature",
         "dtype": "float64",
         "stats": {
          "unique_count": 100,
          "nan_count": 0,
          "min": "0.976869989",
          "max": "42.51528041",
          "histogram": [
           {
            "bin_start": 0.976869989,
            "bin_end": 5.1307110311,
            "count": 3
           },
           {
            "bin_start": 5.1307110311,
            "bin_end": 9.2845520732,
            "count": 7
           },
           {
            "bin_start": 9.2845520732,
            "bin_end": 13.4383931153,
            "count": 10
           },
           {
            "bin_start": 13.4383931153,
            "bin_end": 17.5922341574,
            "count": 18
           },
           {
            "bin_start": 17.5922341574,
            "bin_end": 21.746075199499998,
            "count": 16
           },
           {
            "bin_start": 21.746075199499998,
            "bin_end": 25.8999162416,
            "count": 12
           },
           {
            "bin_start": 25.8999162416,
            "bin_end": 30.0537572837,
            "count": 19
           },
           {
            "bin_start": 30.0537572837,
            "bin_end": 34.2075983258,
            "count": 8
           },
           {
            "bin_start": 34.2075983258,
            "bin_end": 38.3614393679,
            "count": 4
           },
           {
            "bin_start": 38.3614393679,
            "bin_end": 42.51528041,
            "count": 3
           }
          ]
         }
        },
        {
         "name": "Revenue",
         "dtype": "float64",
         "stats": {
          "unique_count": 100,
          "nan_count": 0,
          "min": "55.39033824",
          "max": "921.508275",
          "histogram": [
           {
            "bin_start": 55.39033824,
            "bin_end": 142.002131916,
            "count": 3
           },
           {
            "bin_start": 142.002131916,
            "bin_end": 228.61392559200002,
            "count": 6
           },
           {
            "bin_start": 228.61392559200002,
            "bin_end": 315.22571926800003,
            "count": 8
           },
           {
            "bin_start": 315.22571926800003,
            "bin_end": 401.837512944,
            "count": 17
           },
           {
            "bin_start": 401.837512944,
            "bin_end": 488.44930662,
            "count": 15
           },
           {
            "bin_start": 488.44930662,
            "bin_end": 575.0611002960001,
            "count": 14
           },
           {
            "bin_start": 575.0611002960001,
            "bin_end": 661.672893972,
            "count": 19
           },
           {
            "bin_start": 661.672893972,
            "bin_end": 748.284687648,
            "count": 9
           },
           {
            "bin_start": 748.284687648,
            "bin_end": 834.8964813240001,
            "count": 5
           },
           {
            "bin_start": 834.8964813240001,
            "bin_end": 921.508275,
            "count": 4
           }
          ]
         }
        },
        {
         "name": "_deepnote_index_column",
         "dtype": "int64"
        }
       ],
       "rows": [
        {
         "Temperature": 24.56688442,
         "Revenue": 534.7990284,
         "_deepnote_index_column": 0
        },
        {
         "Temperature": 26.00519115,
         "Revenue": 625.1901215,
         "_deepnote_index_column": 1
        },
        {
         "Temperature": 27.79055388,
         "Revenue": 660.6322888,
         "_deepnote_index_column": 2
        },
        {
         "Temperature": 20.59533505,
         "Revenue": 487.7069603,
         "_deepnote_index_column": 3
        },
        {
         "Temperature": 11.50349764,
         "Revenue": 316.2401944,
         "_deepnote_index_column": 4
        },
        {
         "Temperature": 14.35251388,
         "Revenue": 367.9407438,
         "_deepnote_index_column": 5
        },
        {
         "Temperature": 13.70777988,
         "Revenue": 308.8945179,
         "_deepnote_index_column": 6
        },
        {
         "Temperature": 30.83398474,
         "Revenue": 696.7166402,
         "_deepnote_index_column": 7
        },
        {
         "Temperature": 0.976869989,
         "Revenue": 55.39033824,
         "_deepnote_index_column": 8
        },
        {
         "Temperature": 31.66946458,
         "Revenue": 737.8008241,
         "_deepnote_index_column": 9
        }
       ]
      },
      "text/plain": "    Temperature     Revenue\n0     24.566884  534.799028\n1     26.005191  625.190122\n2     27.790554  660.632289\n3     20.595335  487.706960\n4     11.503498  316.240194\n..          ...         ...\n95     9.018860  212.591740\n96    20.265012  474.749392\n97    19.363153  460.402500\n98    14.685944  343.362905\n99     9.954357  283.834327\n\n[100 rows x 2 columns]",
      "text/html": "<div>\n<style scoped>\n    .dataframe tbody tr th:only-of-type {\n        vertical-align: middle;\n    }\n\n    .dataframe tbody tr th {\n        vertical-align: top;\n    }\n\n    .dataframe thead th {\n        text-align: right;\n    }\n</style>\n<table border=\"1\" class=\"dataframe\">\n  <thead>\n    <tr style=\"text-align: right;\">\n      <th></th>\n      <th>Temperature</th>\n      <th>Revenue</th>\n    </tr>\n  </thead>\n  <tbody>\n    <tr>\n      <th>0</th>\n      <td>24.566884</td>\n      <td>534.799028</td>\n    </tr>\n    <tr>\n      <th>1</th>\n      <td>26.005191</td>\n      <td>625.190122</td>\n    </tr>\n    <tr>\n      <th>2</th>\n      <td>27.790554</td>\n      <td>660.632289</td>\n    </tr>\n    <tr>\n      <th>3</th>\n      <td>20.595335</td>\n      <td>487.706960</td>\n    </tr>\n    <tr>\n      <th>4</th>\n      <td>11.503498</td>\n      <td>316.240194</td>\n    </tr>\n    <tr>\n      <th>...</th>\n      <td>...</td>\n      <td>...</td>\n    </tr>\n    <tr>\n      <th>95</th>\n      <td>9.018860</td>\n      <td>212.591740</td>\n    </tr>\n    <tr>\n      <th>96</th>\n      <td>20.265012</td>\n      <td>474.749392</td>\n    </tr>\n    <tr>\n      <th>97</th>\n      <td>19.363153</td>\n      <td>460.402500</td>\n    </tr>\n    <tr>\n      <th>98</th>\n      <td>14.685944</td>\n      <td>343.362905</td>\n    </tr>\n    <tr>\n      <th>99</th>\n      <td>9.954357</td>\n      <td>283.834327</td>\n    </tr>\n  </tbody>\n</table>\n<p>100 rows × 2 columns</p>\n</div>"
     },
     "metadata": {}
    }
   ]
  },
  {
   "cell_type": "code",
   "metadata": {
    "cell_id": "00010-708e3547-d7e2-4154-902e-da19f69b232a",
    "deepnote_to_be_reexecuted": false,
    "source_hash": "a398f6c8",
    "execution_start": 1658131974406,
    "execution_millis": 5,
    "deepnote_cell_type": "code",
    "deepnote_cell_height": 518,
    "deepnote_output_heights": [
     264
    ]
   },
   "source": "IceCream.describe()",
   "execution_count": 4,
   "outputs": [
    {
     "output_type": "execute_result",
     "execution_count": 4,
     "data": {
      "application/vnd.deepnote.dataframe.v3+json": {
       "column_count": 2,
       "row_count": 8,
       "columns": [
        {
         "name": "Temperature",
         "dtype": "float64",
         "stats": {
          "unique_count": 8,
          "nan_count": 0,
          "min": "0.0",
          "max": "500.0",
          "histogram": [
           {
            "bin_start": 0,
            "bin_end": 50,
            "count": 7
           },
           {
            "bin_start": 50,
            "bin_end": 100,
            "count": 0
           },
           {
            "bin_start": 100,
            "bin_end": 150,
            "count": 0
           },
           {
            "bin_start": 150,
            "bin_end": 200,
            "count": 0
           },
           {
            "bin_start": 200,
            "bin_end": 250,
            "count": 0
           },
           {
            "bin_start": 250,
            "bin_end": 300,
            "count": 0
           },
           {
            "bin_start": 300,
            "bin_end": 350,
            "count": 0
           },
           {
            "bin_start": 350,
            "bin_end": 400,
            "count": 0
           },
           {
            "bin_start": 400,
            "bin_end": 450,
            "count": 0
           },
           {
            "bin_start": 450,
            "bin_end": 500,
            "count": 1
           }
          ]
         }
        },
        {
         "name": "Revenue",
         "dtype": "float64",
         "stats": {
          "unique_count": 8,
          "nan_count": 0,
          "min": "10.0",
          "max": "1000.0",
          "histogram": [
           {
            "bin_start": 10,
            "bin_end": 109,
            "count": 1
           },
           {
            "bin_start": 109,
            "bin_end": 208,
            "count": 1
           },
           {
            "bin_start": 208,
            "bin_end": 307,
            "count": 0
           },
           {
            "bin_start": 307,
            "bin_end": 406,
            "count": 1
           },
           {
            "bin_start": 406,
            "bin_end": 505,
            "count": 1
           },
           {
            "bin_start": 505,
            "bin_end": 604,
            "count": 2
           },
           {
            "bin_start": 604,
            "bin_end": 703,
            "count": 1
           },
           {
            "bin_start": 703,
            "bin_end": 802,
            "count": 0
           },
           {
            "bin_start": 802,
            "bin_end": 901,
            "count": 0
           },
           {
            "bin_start": 901,
            "bin_end": 1000,
            "count": 1
           }
          ]
         }
        },
        {
         "name": "_deepnote_index_column",
         "dtype": "object"
        }
       ],
       "rows": [
        {
         "Temperature": 500,
         "Revenue": 500,
         "_deepnote_index_column": "count"
        },
        {
         "Temperature": 22.232225113404002,
         "Revenue": 521.57077669154,
         "_deepnote_index_column": "mean"
        },
        {
         "Temperature": 8.096387538573685,
         "Revenue": 175.40475081921585,
         "_deepnote_index_column": "std"
        },
        {
         "Temperature": 0,
         "Revenue": 10,
         "_deepnote_index_column": "min"
        },
        {
         "Temperature": 17.122257677500002,
         "Revenue": 405.558681125,
         "_deepnote_index_column": "25%"
        },
        {
         "Temperature": 22.392790509999998,
         "Revenue": 529.36856475,
         "_deepnote_index_column": "50%"
        },
        {
         "Temperature": 27.7406742975,
         "Revenue": 642.2579215999999,
         "_deepnote_index_column": "75%"
        },
        {
         "Temperature": 45,
         "Revenue": 1000,
         "_deepnote_index_column": "max"
        }
       ]
      },
      "text/plain": "       Temperature      Revenue\ncount   500.000000   500.000000\nmean     22.232225   521.570777\nstd       8.096388   175.404751\nmin       0.000000    10.000000\n25%      17.122258   405.558681\n50%      22.392791   529.368565\n75%      27.740674   642.257922\nmax      45.000000  1000.000000",
      "text/html": "<div>\n<style scoped>\n    .dataframe tbody tr th:only-of-type {\n        vertical-align: middle;\n    }\n\n    .dataframe tbody tr th {\n        vertical-align: top;\n    }\n\n    .dataframe thead th {\n        text-align: right;\n    }\n</style>\n<table border=\"1\" class=\"dataframe\">\n  <thead>\n    <tr style=\"text-align: right;\">\n      <th></th>\n      <th>Temperature</th>\n      <th>Revenue</th>\n    </tr>\n  </thead>\n  <tbody>\n    <tr>\n      <th>count</th>\n      <td>500.000000</td>\n      <td>500.000000</td>\n    </tr>\n    <tr>\n      <th>mean</th>\n      <td>22.232225</td>\n      <td>521.570777</td>\n    </tr>\n    <tr>\n      <th>std</th>\n      <td>8.096388</td>\n      <td>175.404751</td>\n    </tr>\n    <tr>\n      <th>min</th>\n      <td>0.000000</td>\n      <td>10.000000</td>\n    </tr>\n    <tr>\n      <th>25%</th>\n      <td>17.122258</td>\n      <td>405.558681</td>\n    </tr>\n    <tr>\n      <th>50%</th>\n      <td>22.392791</td>\n      <td>529.368565</td>\n    </tr>\n    <tr>\n      <th>75%</th>\n      <td>27.740674</td>\n      <td>642.257922</td>\n    </tr>\n    <tr>\n      <th>max</th>\n      <td>45.000000</td>\n      <td>1000.000000</td>\n    </tr>\n  </tbody>\n</table>\n</div>"
     },
     "metadata": {}
    }
   ]
  },
  {
   "cell_type": "code",
   "metadata": {
    "scrolled": true,
    "cell_id": "00011-a4acc20b-90f5-4855-806d-c95ec4c77781",
    "deepnote_to_be_reexecuted": false,
    "source_hash": "9df0c770",
    "execution_start": 1658131979616,
    "execution_millis": 4,
    "deepnote_cell_type": "code",
    "deepnote_cell_height": 273.6875
   },
   "source": "IceCream.info()",
   "execution_count": 5,
   "outputs": [
    {
     "name": "stdout",
     "text": "<class 'pandas.core.frame.DataFrame'>\nRangeIndex: 500 entries, 0 to 499\nData columns (total 2 columns):\n #   Column       Non-Null Count  Dtype  \n---  ------       --------------  -----  \n 0   Temperature  500 non-null    float64\n 1   Revenue      500 non-null    float64\ndtypes: float64(2)\nmemory usage: 7.9 KB\n",
     "output_type": "stream"
    }
   ]
  },
  {
   "cell_type": "markdown",
   "source": "# VISUALIZE DATASET",
   "metadata": {
    "cell_id": "00012-88a4e9e8-97f3-465b-a97e-cb9a5d2a9c68",
    "deepnote_cell_type": "markdown",
    "deepnote_cell_height": 82
   }
  },
  {
   "cell_type": "code",
   "metadata": {
    "scrolled": false,
    "cell_id": "00013-55d1afc5-a984-40f7-8bbf-84dcd4c8252c",
    "deepnote_to_be_reexecuted": false,
    "source_hash": "c259c5a",
    "execution_start": 1658131987755,
    "execution_millis": 539,
    "deepnote_cell_type": "code",
    "deepnote_cell_height": 575.1875,
    "deepnote_output_heights": [
     21.1875,
     426
    ]
   },
   "source": "sns.jointplot(x='Temperature', y='Revenue', data = IceCream, color = 'gray')",
   "execution_count": 6,
   "outputs": [
    {
     "output_type": "execute_result",
     "execution_count": 6,
     "data": {
      "text/plain": "<seaborn.axisgrid.JointGrid at 0x7f8bded14d90>"
     },
     "metadata": {}
    },
    {
     "data": {
      "text/plain": "<Figure size 432x432 with 3 Axes>",
      "image/png": "[encoded data removed]"
     },
     "metadata": {
      "needs_background": "light",
      "image/png": {
       "width": 434,
       "height": 424
      }
     },
     "output_type": "display_data"
    }
   ]
  },
  {
   "cell_type": "code",
   "metadata": {
    "cell_id": "00014-f13d52d4-4f2a-45a6-a7b8-fe69b928d5b8",
    "deepnote_to_be_reexecuted": false,
    "source_hash": "a7436dfb",
    "execution_start": 1658132010340,
    "execution_millis": 842,
    "deepnote_cell_type": "code",
    "deepnote_cell_height": 508.1875,
    "deepnote_output_heights": [
     21.1875,
     359
    ]
   },
   "source": "sns.pairplot(IceCream)",
   "execution_count": 7,
   "outputs": [
    {
     "output_type": "execute_result",
     "execution_count": 7,
     "data": {
      "text/plain": "<seaborn.axisgrid.PairGrid at 0x7f8bcffaf9a0>"
     },
     "metadata": {}
    },
    {
     "data": {
      "text/plain": "<Figure size 360x360 with 6 Axes>",
      "image/png": "[encoded data removed]"
     },
     "metadata": {
      "needs_background": "light",
      "image/png": {
       "width": 356,
       "height": 357
      }
     },
     "output_type": "display_data"
    }
   ]
  },
  {
   "cell_type": "code",
   "metadata": {
    "cell_id": "00015-02419ef6-e7d6-40af-9397-28a448be0fd1",
    "deepnote_to_be_reexecuted": false,
    "source_hash": "9c173319",
    "execution_start": 1658132016429,
    "execution_millis": 446,
    "deepnote_cell_type": "code",
    "deepnote_cell_height": 503.1875,
    "deepnote_output_heights": [
     21.1875,
     354
    ]
   },
   "source": "sns.lmplot(x='Temperature', y='Revenue', data=IceCream)",
   "execution_count": 8,
   "outputs": [
    {
     "output_type": "execute_result",
     "execution_count": 8,
     "data": {
      "text/plain": "<seaborn.axisgrid.FacetGrid at 0x7f8bcfcc6640>"
     },
     "metadata": {}
    },
    {
     "data": {
      "text/plain": "<Figure size 360x360 with 1 Axes>",
      "image/png": "[encoded data removed]"
     },
     "metadata": {
      "needs_background": "light",
      "image/png": {
       "width": 352,
       "height": 352
      }
     },
     "output_type": "display_data"
    }
   ]
  },
  {
   "cell_type": "markdown",
   "source": "# CREATE TESTING AND TRAINING DATASET",
   "metadata": {
    "cell_id": "00016-ee7c6ba5-30b4-4e09-968c-38e17645acff",
    "deepnote_cell_type": "markdown",
    "deepnote_cell_height": 134
   }
  },
  {
   "cell_type": "code",
   "metadata": {
    "cell_id": "00017-cb8fe793-e922-49cb-a6a0-c6a2a77d7fac",
    "deepnote_to_be_reexecuted": false,
    "source_hash": "7d1b0109",
    "execution_start": 1658132031767,
    "execution_millis": 0,
    "deepnote_cell_type": "code",
    "deepnote_cell_height": 81
   },
   "source": "y = IceCream['Revenue']",
   "execution_count": 9,
   "outputs": []
  },
  {
   "cell_type": "code",
   "metadata": {
    "cell_id": "00018-3f2972a0-3d07-4468-a3ce-56baa3317f84",
    "deepnote_to_be_reexecuted": false,
    "source_hash": "32b21649",
    "execution_start": 1658132035532,
    "execution_millis": 2,
    "deepnote_cell_type": "code",
    "deepnote_cell_height": 81
   },
   "source": "X = IceCream[['Temperature']]",
   "execution_count": 10,
   "outputs": []
  },
  {
   "cell_type": "code",
   "metadata": {
    "cell_id": "00020-7660acc7-ce5b-4628-986c-7f5c2dad03c0",
    "deepnote_to_be_reexecuted": false,
    "source_hash": "746a4dbc",
    "execution_start": 1658132043378,
    "execution_millis": 155,
    "deepnote_cell_type": "code",
    "deepnote_cell_height": 81
   },
   "source": "from sklearn.model_selection import train_test_split",
   "execution_count": 11,
   "outputs": []
  },
  {
   "cell_type": "code",
   "metadata": {
    "cell_id": "00021-407d50a2-79f6-409a-9fa8-84d757ddbb9a",
    "deepnote_to_be_reexecuted": false,
    "source_hash": "121b18ac",
    "execution_start": 1658132047069,
    "execution_millis": 0,
    "deepnote_cell_type": "code",
    "deepnote_cell_height": 81
   },
   "source": "X_train, X_test, y_train, y_test = train_test_split(X, y, test_size=0.25)",
   "execution_count": 12,
   "outputs": []
  },
  {
   "cell_type": "markdown",
   "source": "# TRAIN THE MODEL",
   "metadata": {
    "cell_id": "00022-0f256b7b-c980-4a97-bf5a-2fbc1208183a",
    "deepnote_cell_type": "markdown",
    "deepnote_cell_height": 82
   }
  },
  {
   "cell_type": "code",
   "metadata": {
    "cell_id": "00023-c6d638ea-b7fa-47a5-91c7-b3be15c9b759",
    "deepnote_to_be_reexecuted": false,
    "source_hash": "38f368cd",
    "execution_start": 1658132065620,
    "execution_millis": 305,
    "deepnote_cell_type": "code",
    "deepnote_cell_height": 118.1875,
    "deepnote_output_heights": [
     21.1875
    ]
   },
   "source": "X_train.shape",
   "execution_count": 13,
   "outputs": [
    {
     "output_type": "execute_result",
     "execution_count": 13,
     "data": {
      "text/plain": "(375, 1)"
     },
     "metadata": {}
    }
   ]
  },
  {
   "cell_type": "code",
   "source": "from sklearn.linear_model import LinearRegression\nregressor = LinearRegression(fit_intercept = True)\nregressor.fit(X_train, y_train)",
   "metadata": {
    "cell_id": "644e030d90be436c87910283debdb271",
    "tags": [],
    "deepnote_to_be_reexecuted": false,
    "source_hash": "694b841c",
    "execution_start": 1658132142666,
    "execution_millis": 207,
    "deepnote_cell_type": "code",
    "deepnote_cell_height": 193.34375,
    "deepnote_output_heights": [
     60.34375
    ]
   },
   "outputs": [
    {
     "output_type": "execute_result",
     "execution_count": 14,
     "data": {
      "text/plain": "LinearRegression()",
      "text/html": "<style>#sk-container-id-1 {color: black;background-color: white;}#sk-container-id-1 pre{padding: 0;}#sk-container-id-1 div.sk-toggleable {background-color: white;}#sk-container-id-1 label.sk-toggleable__label {cursor: pointer;display: block;width: 100%;margin-bottom: 0;padding: 0.3em;box-sizing: border-box;text-align: center;}#sk-container-id-1 label.sk-toggleable__label-arrow:before {content: \"▸\";float: left;margin-right: 0.25em;color: #696969;}#sk-container-id-1 label.sk-toggleable__label-arrow:hover:before {color: black;}#sk-container-id-1 div.sk-estimator:hover label.sk-toggleable__label-arrow:before {color: black;}#sk-container-id-1 div.sk-toggleable__content {max-height: 0;max-width: 0;overflow: hidden;text-align: left;background-color: #f0f8ff;}#sk-container-id-1 div.sk-toggleable__content pre {margin: 0.2em;color: black;border-radius: 0.25em;background-color: #f0f8ff;}#sk-container-id-1 input.sk-toggleable__control:checked~div.sk-toggleable__content {max-height: 200px;max-width: 100%;overflow: auto;}#sk-container-id-1 input.sk-toggleable__control:checked~label.sk-toggleable__label-arrow:before {content: \"▾\";}#sk-container-id-1 div.sk-estimator input.sk-toggleable__control:checked~label.sk-toggleable__label {background-color: #d4ebff;}#sk-container-id-1 div.sk-label input.sk-toggleable__control:checked~label.sk-toggleable__label {background-color: #d4ebff;}#sk-container-id-1 input.sk-hidden--visually {border: 0;clip: rect(1px 1px 1px 1px);clip: rect(1px, 1px, 1px, 1px);height: 1px;margin: -1px;overflow: hidden;padding: 0;position: absolute;width: 1px;}#sk-container-id-1 div.sk-estimator {font-family: monospace;background-color: #f0f8ff;border: 1px dotted black;border-radius: 0.25em;box-sizing: border-box;margin-bottom: 0.5em;}#sk-container-id-1 div.sk-estimator:hover {background-color: #d4ebff;}#sk-container-id-1 div.sk-parallel-item::after {content: \"\";width: 100%;border-bottom: 1px solid gray;flex-grow: 1;}#sk-container-id-1 div.sk-label:hover label.sk-toggleable__label {background-color: #d4ebff;}#sk-container-id-1 div.sk-serial::before {content: \"\";position: absolute;border-left: 1px solid gray;box-sizing: border-box;top: 0;bottom: 0;left: 50%;z-index: 0;}#sk-container-id-1 div.sk-serial {display: flex;flex-direction: column;align-items: center;background-color: white;padding-right: 0.2em;padding-left: 0.2em;position: relative;}#sk-container-id-1 div.sk-item {position: relative;z-index: 1;}#sk-container-id-1 div.sk-parallel {display: flex;align-items: stretch;justify-content: center;background-color: white;position: relative;}#sk-container-id-1 div.sk-item::before, #sk-container-id-1 div.sk-parallel-item::before {content: \"\";position: absolute;border-left: 1px solid gray;box-sizing: border-box;top: 0;bottom: 0;left: 50%;z-index: -1;}#sk-container-id-1 div.sk-parallel-item {display: flex;flex-direction: column;z-index: 1;position: relative;background-color: white;}#sk-container-id-1 div.sk-parallel-item:first-child::after {align-self: flex-end;width: 50%;}#sk-container-id-1 div.sk-parallel-item:last-child::after {align-self: flex-start;width: 50%;}#sk-container-id-1 div.sk-parallel-item:only-child::after {width: 0;}#sk-container-id-1 div.sk-dashed-wrapped {border: 1px dashed gray;margin: 0 0.4em 0.5em 0.4em;box-sizing: border-box;padding-bottom: 0.4em;background-color: white;}#sk-container-id-1 div.sk-label label {font-family: monospace;font-weight: bold;display: inline-block;line-height: 1.2em;}#sk-container-id-1 div.sk-label-container {text-align: center;}#sk-container-id-1 div.sk-container {/* jupyter's `normalize.less` sets `[hidden] { display: none; }` but bootstrap.min.css set `[hidden] { display: none !important; }` so we also need the `!important` here to be able to override the default hidden behavior on the sphinx rendered scikit-learn.org. See: https://github.com/scikit-learn/scikit-learn/issues/21755 */display: inline-block !important;position: relative;}#sk-container-id-1 div.sk-text-repr-fallback {display: none;}</style><div id=\"sk-container-id-1\" class=\"sk-top-container\"><div class=\"sk-text-repr-fallback\"><pre>LinearRegression()</pre><b>In a Jupyter environment, please rerun this cell to show the HTML representation or trust the notebook. <br />On GitHub, the HTML representation is unable to render, please try loading this page with nbviewer.org.</b></div><div class=\"sk-container\" hidden><div class=\"sk-item\"><div class=\"sk-estimator sk-toggleable\"><input class=\"sk-toggleable__control sk-hidden--visually\" id=\"sk-estimator-id-1\" type=\"checkbox\" checked><label for=\"sk-estimator-id-1\" class=\"sk-toggleable__label sk-toggleable__label-arrow\">LinearRegression</label><div class=\"sk-toggleable__content\"><pre>LinearRegression()</pre></div></div></div></div></div>"
     },
     "metadata": {}
    }
   ],
   "execution_count": 14
  },
  {
   "cell_type": "code",
   "metadata": {
    "cell_id": "00027-1f10717d-baf9-47e8-a5f0-07bd475e7262",
    "deepnote_to_be_reexecuted": false,
    "source_hash": "982b873e",
    "execution_start": 1658132146465,
    "execution_millis": 4,
    "deepnote_cell_type": "code",
    "deepnote_cell_height": 150.375
   },
   "source": "print('Linear Model Coefficient (m): ', regressor.coef_)\nprint('Linear Model Coefficient (b): ', regressor.intercept_)",
   "execution_count": 15,
   "outputs": [
    {
     "name": "stdout",
     "text": "Linear Model Coefficient (m):  [21.46278434]\nLinear Model Coefficient (b):  44.24002309022649\n",
     "output_type": "stream"
    }
   ]
  },
  {
   "cell_type": "code",
   "source": "pip install statsmodels",
   "metadata": {
    "cell_id": "98899752474840b382359d669839b9cd",
    "tags": [],
    "deepnote_to_be_reexecuted": false,
    "source_hash": "7a48438e",
    "execution_start": 1658132223563,
    "execution_millis": 7245,
    "deepnote_cell_type": "code",
    "deepnote_cell_height": 544.75
   },
   "outputs": [
    {
     "name": "stdout",
     "text": "Collecting statsmodels\n  Downloading statsmodels-0.13.2-cp39-cp39-manylinux_2_17_x86_64.manylinux2014_x86_64.whl (9.9 MB)\n\u001b[2K     \u001b[90m━━━━━━━━━━━━━━━━━━━━━━━━━━━━━━━━━━━━━━━━\u001b[0m \u001b[32m9.9/9.9 MB\u001b[0m \u001b[31m78.9 MB/s\u001b[0m eta \u001b[36m0:00:00\u001b[0m\n\u001b[?25hRequirement already satisfied: scipy>=1.3 in /shared-libs/python3.9/py/lib/python3.9/site-packages (from statsmodels) (1.8.1)\nRequirement already satisfied: pandas>=0.25 in /shared-libs/python3.9/py/lib/python3.9/site-packages (from statsmodels) (1.2.5)\nRequirement already satisfied: numpy>=1.17 in /shared-libs/python3.9/py/lib/python3.9/site-packages (from statsmodels) (1.22.4)\nCollecting patsy>=0.5.2\n  Downloading patsy-0.5.2-py2.py3-none-any.whl (233 kB)\n\u001b[2K     \u001b[90m━━━━━━━━━━━━━━━━━━━━━━━━━━━━━━━━━━━━━━\u001b[0m \u001b[32m233.7/233.7 KB\u001b[0m \u001b[31m28.9 MB/s\u001b[0m eta \u001b[36m0:00:00\u001b[0m\n\u001b[?25hRequirement already satisfied: packaging>=21.3 in /shared-libs/python3.9/py/lib/python3.9/site-packages (from statsmodels) (21.3)\nRequirement already satisfied: pyparsing!=3.0.5,>=2.0.2 in /shared-libs/python3.9/py/lib/python3.9/site-packages (from packaging>=21.3->statsmodels) (3.0.9)\nRequirement already satisfied: pytz>=2017.3 in /shared-libs/python3.9/py/lib/python3.9/site-packages (from pandas>=0.25->statsmodels) (2022.1)\nRequirement already satisfied: python-dateutil>=2.7.3 in /shared-libs/python3.9/py-core/lib/python3.9/site-packages (from pandas>=0.25->statsmodels) (2.8.2)\nRequirement already satisfied: six in /shared-libs/python3.9/py-core/lib/python3.9/site-packages (from patsy>=0.5.2->statsmodels) (1.16.0)\nInstalling collected packages: patsy, statsmodels\nSuccessfully installed patsy-0.5.2 statsmodels-0.13.2\n\u001b[33mWARNING: Running pip as the 'root' user can result in broken permissions and conflicting behaviour with the system package manager. It is recommended to use a virtual environment instead: https://pip.pypa.io/warnings/venv\u001b[0m\u001b[33m\n\u001b[0m\u001b[33mWARNING: You are using pip version 22.0.4; however, version 22.1.2 is available.\nYou should consider upgrading via the '/usr/local/bin/python -m pip install --upgrade pip' command.\u001b[0m\u001b[33m\n\u001b[0mNote: you may need to restart the kernel to use updated packages.\n",
     "output_type": "stream"
    }
   ],
   "execution_count": 17
  },
  {
   "cell_type": "code",
   "source": "# Use statsmodels to get a more detailed analysis of the regression model in Python\n\nimport statsmodels.api as sm\n\nmodel = sm.OLS(y_train, X_train.assign(const=1))\nresults = model.fit()\nresults.summary()",
   "metadata": {
    "cell_id": "72da446062444e4eb8d5ab0140c2b09a",
    "tags": [],
    "deepnote_to_be_reexecuted": false,
    "source_hash": "bd554b58",
    "execution_start": 1658132263691,
    "execution_millis": 420,
    "deepnote_cell_type": "code",
    "deepnote_cell_height": 792.75,
    "deepnote_output_heights": [
     587.75
    ]
   },
   "outputs": [
    {
     "output_type": "execute_result",
     "execution_count": 18,
     "data": {
      "text/plain": "<class 'statsmodels.iolib.summary.Summary'>\n\"\"\"\n                            OLS Regression Results                            \n==============================================================================\nDep. Variable:                Revenue   R-squared:                       0.981\nModel:                            OLS   Adj. R-squared:                  0.981\nMethod:                 Least Squares   F-statistic:                 1.885e+04\nDate:                Mon, 18 Jul 2022   Prob (F-statistic):          2.13e-321\nTime:                        08:17:44   Log-Likelihood:                -1725.9\nNo. Observations:                 375   AIC:                             3456.\nDf Residuals:                     373   BIC:                             3464.\nDf Model:                           1                                         \nCovariance Type:            nonrobust                                         \n===============================================================================\n                  coef    std err          t      P>|t|      [0.025      0.975]\n-------------------------------------------------------------------------------\nTemperature    21.4628      0.156    137.280      0.000      21.155      21.770\nconst          44.2400      3.627     12.198      0.000      37.109      51.371\n==============================================================================\nOmnibus:                        3.932   Durbin-Watson:                   1.994\nProb(Omnibus):                  0.140   Jarque-Bera (JB):                4.667\nSkew:                          -0.061   Prob(JB):                       0.0969\nKurtosis:                       3.533   Cond. No.                         67.4\n==============================================================================\n\nNotes:\n[1] Standard Errors assume that the covariance matrix of the errors is correctly specified.\n\"\"\"",
      "text/html": "<table class=\"simpletable\">\n<caption>OLS Regression Results</caption>\n<tr>\n  <th>Dep. Variable:</th>         <td>Revenue</td>     <th>  R-squared:         </th> <td>   0.981</td> \n</tr>\n<tr>\n  <th>Model:</th>                   <td>OLS</td>       <th>  Adj. R-squared:    </th> <td>   0.981</td> \n</tr>\n<tr>\n  <th>Method:</th>             <td>Least Squares</td>  <th>  F-statistic:       </th> <td>1.885e+04</td>\n</tr>\n<tr>\n  <th>Date:</th>             <td>Mon, 18 Jul 2022</td> <th>  Prob (F-statistic):</th> <td>2.13e-321</td>\n</tr>\n<tr>\n  <th>Time:</th>                 <td>08:17:44</td>     <th>  Log-Likelihood:    </th> <td> -1725.9</td> \n</tr>\n<tr>\n  <th>No. Observations:</th>      <td>   375</td>      <th>  AIC:               </th> <td>   3456.</td> \n</tr>\n<tr>\n  <th>Df Residuals:</th>          <td>   373</td>      <th>  BIC:               </th> <td>   3464.</td> \n</tr>\n<tr>\n  <th>Df Model:</th>              <td>     1</td>      <th>                     </th>     <td> </td>    \n</tr>\n<tr>\n  <th>Covariance Type:</th>      <td>nonrobust</td>    <th>                     </th>     <td> </td>    \n</tr>\n</table>\n<table class=\"simpletable\">\n<tr>\n       <td></td>          <th>coef</th>     <th>std err</th>      <th>t</th>      <th>P>|t|</th>  <th>[0.025</th>    <th>0.975]</th>  \n</tr>\n<tr>\n  <th>Temperature</th> <td>   21.4628</td> <td>    0.156</td> <td>  137.280</td> <td> 0.000</td> <td>   21.155</td> <td>   21.770</td>\n</tr>\n<tr>\n  <th>const</th>       <td>   44.2400</td> <td>    3.627</td> <td>   12.198</td> <td> 0.000</td> <td>   37.109</td> <td>   51.371</td>\n</tr>\n</table>\n<table class=\"simpletable\">\n<tr>\n  <th>Omnibus:</th>       <td> 3.932</td> <th>  Durbin-Watson:     </th> <td>   1.994</td>\n</tr>\n<tr>\n  <th>Prob(Omnibus):</th> <td> 0.140</td> <th>  Jarque-Bera (JB):  </th> <td>   4.667</td>\n</tr>\n<tr>\n  <th>Skew:</th>          <td>-0.061</td> <th>  Prob(JB):          </th> <td>  0.0969</td>\n</tr>\n<tr>\n  <th>Kurtosis:</th>      <td> 3.533</td> <th>  Cond. No.          </th> <td>    67.4</td>\n</tr>\n</table><br/><br/>Notes:<br/>[1] Standard Errors assume that the covariance matrix of the errors is correctly specified."
     },
     "metadata": {}
    }
   ],
   "execution_count": 18
  },
  {
   "cell_type": "markdown",
   "source": "# TEST THE MODEL ",
   "metadata": {
    "cell_id": "00028-920d4b6d-fd8c-4678-8bc6-288037d326da",
    "deepnote_cell_type": "markdown",
    "deepnote_cell_height": 82
   }
  },
  {
   "cell_type": "code",
   "metadata": {
    "cell_id": "00029-952be3f7-490a-435e-8bf3-59fcd8f8008f",
    "deepnote_to_be_reexecuted": false,
    "source_hash": "9ead14cc",
    "execution_start": 1658132440083,
    "execution_millis": 5,
    "deepnote_cell_type": "code",
    "deepnote_cell_height": 135,
    "deepnote_output_heights": [
     611
    ]
   },
   "source": "from sklearn.metrics import mean_squared_error\nfrom sklearn.metrics import r2_score\n\ny_pred = regressor.predict(X_test)",
   "execution_count": 23,
   "outputs": []
  },
  {
   "cell_type": "code",
   "metadata": {
    "cell_id": "00031-bb58c8fd-16f9-49b8-9a26-7a0d24d27a4c",
    "deepnote_to_be_reexecuted": false,
    "source_hash": "c38d8910",
    "execution_start": 1658132444453,
    "execution_millis": 4,
    "deepnote_cell_type": "code",
    "deepnote_cell_height": 420.375
   },
   "source": "# REGRESSION METRICS\n\nfrom sklearn.metrics import r2_score, mean_absolute_error, mean_squared_error\n\nR2 = r2_score(y_test, y_pred)\n\nMAE = mean_absolute_error(y_test, y_pred)\n\nMSE = mean_squared_error(y_test, y_pred)\n\nRMSE = mean_squared_error(y_test, y_pred, squared = False)\n\n\nresults = pd.DataFrame([[R2, MAE, MSE, RMSE]],\n               columns = ['R2', 'MAE', 'MSE', 'RMSE'])\n\nprint(results)",
   "execution_count": 24,
   "outputs": [
    {
     "name": "stdout",
     "text": "         R2       MAE         MSE       RMSE\n0  0.976422  21.57341  745.664376  27.306856\n",
     "output_type": "stream"
    }
   ]
  },
  {
   "cell_type": "code",
   "metadata": {
    "cell_id": "00032-4e0a20b8-bb5b-40b0-8f84-d058842e227b",
    "deepnote_to_be_reexecuted": false,
    "source_hash": "590be338",
    "execution_start": 1658132458981,
    "execution_millis": 187,
    "deepnote_cell_type": "code",
    "deepnote_cell_height": 501.1875,
    "deepnote_output_heights": [
     21.1875,
     280
    ]
   },
   "source": "plt.scatter(X_train, y_train, color = 'gray')\nplt.plot(X_train, regressor.predict(X_train), color = 'red')\nplt.ylabel('Revenue [dollars]')\nplt.xlabel('Temperature [degC]')\nplt.title('Revenue Generated vs. Temperature Ice Cream Stand(Training dataset)')",
   "execution_count": 25,
   "outputs": [
    {
     "output_type": "execute_result",
     "execution_count": 25,
     "data": {
      "text/plain": "Text(0.5, 1.0, 'Revenue Generated vs. Temperature Ice Cream Stand(Training dataset)')"
     },
     "metadata": {}
    },
    {
     "data": {
      "text/plain": "<Figure size 432x288 with 1 Axes>",
      "image/png": "[encoded data removed]"
     },
     "metadata": {
      "needs_background": "light",
      "image/png": {
       "width": 446,
       "height": 278
      }
     },
     "output_type": "display_data"
    }
   ]
  },
  {
   "cell_type": "code",
   "metadata": {
    "cell_id": "00033-9c915e90-7909-4c3f-8309-c0e05d841948",
    "deepnote_to_be_reexecuted": false,
    "source_hash": "aa50b257",
    "execution_start": 1658132567399,
    "execution_millis": 155,
    "deepnote_cell_type": "code",
    "deepnote_cell_height": 519.1875,
    "deepnote_output_heights": [
     21.1875,
     280
    ]
   },
   "source": "# VISUALIZE TEST SET RESULTS\nplt.scatter(X_test, y_test, color = 'gray')\nplt.plot(X_test, regressor.predict(X_test), color = 'red')\nplt.ylabel('Revenue [dollars]')\nplt.xlabel('Temperature [degC]')\nplt.title('Revenue Generated vs. Temperature Ice Cream Stand(Test dataset)')",
   "execution_count": 30,
   "outputs": [
    {
     "output_type": "execute_result",
     "execution_count": 30,
     "data": {
      "text/plain": "Text(0.5, 1.0, 'Revenue Generated vs. Temperature Ice Cream Stand(Test dataset)')"
     },
     "metadata": {}
    },
    {
     "data": {
      "text/plain": "<Figure size 432x288 with 1 Axes>",
      "image/png": "[encoded data removed]"
     },
     "metadata": {
      "needs_background": "light",
      "image/png": {
       "width": 431,
       "height": 278
      }
     },
     "output_type": "display_data"
    }
   ]
  },
  {
   "cell_type": "code",
   "metadata": {
    "cell_id": "00034-1f9840ba-84e0-451a-9805-e071184d18ee",
    "deepnote_to_be_reexecuted": false,
    "source_hash": "87e57e53",
    "execution_start": 1658132617220,
    "execution_millis": 13,
    "owner_user_id": "89242f75-a866-4d42-b2fa-b756b7b484f9",
    "deepnote_cell_type": "code",
    "deepnote_cell_height": 242.5625,
    "deepnote_output_heights": [
     null,
     21.1875
    ]
   },
   "source": "# revenue for Temperature = 30\nT= 30\nrevenue = regressor.predict([[T]])\nrevenue",
   "execution_count": 32,
   "outputs": [
    {
     "name": "stderr",
     "text": "/shared-libs/python3.9/py/lib/python3.9/site-packages/sklearn/base.py:450: UserWarning: X does not have valid feature names, but LinearRegression was fitted with feature names\n  warnings.warn(\n",
     "output_type": "stream"
    },
    {
     "output_type": "execute_result",
     "execution_count": 32,
     "data": {
      "text/plain": "array([688.12355326])"
     },
     "metadata": {}
    }
   ]
  },
  {
   "cell_type": "markdown",
   "source": "<a style='text-decoration:none;line-height:16px;display:flex;color:#5B5B62;padding:10px;justify-content:end;' href='https://deepnote.com?utm_source=created-in-deepnote-cell&projectId=52c36416-830a-46f9-8b9e-cd6ea1847ee2' target=\"_blank\">\n<img alt='Created in deepnote.com' style='display:inline;max-height:16px;margin:0px;margin-right:7.5px;' src='data:image/svg+xml;base64,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' > </img>\nCreated in <span style='font-weight:600;margin-left:4px;'>Deepnote</span></a>",
   "metadata": {
    "tags": [],
    "created_in_deepnote_cell": true,
    "deepnote_cell_type": "markdown"
   }
  }
 ],
 "nbformat": 4,
 "nbformat_minor": 1,
 "metadata": {
  "kernelspec": {
   "display_name": "Python 3",
   "language": "python",
   "name": "python3"
  },
  "language_info": {
   "codemirror_mode": {
    "name": "ipython",
    "version": 3
   },
   "file_extension": ".py",
   "mimetype": "text/x-python",
   "name": "python",
   "nbconvert_exporter": "python",
   "pygments_lexer": "ipython3",
   "version": "3.7.7"
  },
  "widgets": {
   "state": {},
   "version": "1.1.2"
  },
  "deepnote_notebook_id": "f52d8f25-bc29-423c-816d-3d37d2f1a5a5",
  "deepnote": {},
  "deepnote_execution_queue": []
 }
}