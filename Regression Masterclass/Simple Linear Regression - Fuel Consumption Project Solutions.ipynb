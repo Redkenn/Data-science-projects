{
 "cells": [
  {
   "cell_type": "markdown",
   "source": "\n# LINEAR REGRESSION to predict product sales volume and vehicle fuel economy\n\n\n\n",
   "metadata": {
    "cell_id": "54d25cda-d942-481e-a5e3-c2e82adf8ddf",
    "deepnote_app_coordinates": {
     "x": 0,
     "y": 1,
     "w": 12,
     "h": 5
    },
    "deepnote_cell_type": "markdown",
    "deepnote_cell_height": 186
   }
  },
  {
   "cell_type": "markdown",
   "source": "# PROBLEM STATEMENT",
   "metadata": {
    "cell_id": "00001-b49cfaf8-d3d4-421a-ad8a-1cc3ceda5ac8",
    "deepnote_app_coordinates": {
     "x": 0,
     "y": 7,
     "w": 12,
     "h": 5
    },
    "deepnote_cell_type": "markdown",
    "deepnote_cell_height": 82
   }
  },
  {
   "cell_type": "markdown",
   "source": "- You have been hired as a consultant to a major Automotive Manufacturer and you have been tasked to develop a model to predict the impact of increasing the vehicle horsepower (HP) on fuel economy (Mileage Per Gallon (MPG)). \n- Data set description:\n    - Independant variable X: Vehicle Horse Power \n    - Dependant variable Y: Mileage Per Gallon (MPG) ",
   "metadata": {
    "cell_id": "00002-21e3530a-3127-45f8-b945-9bfa3cc85369",
    "deepnote_app_coordinates": {
     "x": 0,
     "y": 13,
     "w": 12,
     "h": 5
    },
    "deepnote_cell_type": "markdown",
    "deepnote_cell_height": 190.34375
   }
  },
  {
   "cell_type": "markdown",
   "source": "# LIBRARIES IMPORT\n",
   "metadata": {
    "cell_id": "00003-fc961a8c-45b7-472e-9df4-8619b77cb409",
    "deepnote_app_coordinates": {
     "x": 0,
     "y": 19,
     "w": 12,
     "h": 5
    },
    "owner_user_id": "89242f75-a866-4d42-b2fa-b756b7b484f9",
    "deepnote_cell_type": "markdown",
    "deepnote_cell_height": 152
   }
  },
  {
   "cell_type": "code",
   "metadata": {
    "cell_id": "00004-e19397e2-195b-4a42-a114-cafafdbb22fd",
    "deepnote_to_be_reexecuted": false,
    "source_hash": "68301009",
    "execution_start": 1658073201310,
    "execution_millis": 2402,
    "deepnote_app_coordinates": {
     "x": 0,
     "y": 25,
     "w": 12,
     "h": 5
    },
    "deepnote_cell_type": "code",
    "deepnote_cell_height": 135
   },
   "source": "import pandas as pd\nimport numpy as np\nimport seaborn as sns\nimport matplotlib.pyplot as plt",
   "execution_count": null,
   "outputs": []
  },
  {
   "cell_type": "markdown",
   "source": "# IMPORT DATASET",
   "metadata": {
    "cell_id": "00005-90f86627-34da-4bd4-a727-780d1f3b8244",
    "deepnote_app_coordinates": {
     "x": 0,
     "y": 31,
     "w": 12,
     "h": 5
    },
    "deepnote_cell_type": "markdown",
    "deepnote_cell_height": 82
   }
  },
  {
   "cell_type": "code",
   "metadata": {
    "cell_id": "00006-3d238bc8-3d40-4a93-bc1d-42f2767019c4",
    "deepnote_to_be_reexecuted": false,
    "source_hash": "76a7bd73",
    "execution_start": 1658073208117,
    "execution_millis": 6,
    "deepnote_app_coordinates": {
     "x": 0,
     "y": 37,
     "w": 12,
     "h": 5
    },
    "deepnote_cell_type": "code",
    "deepnote_cell_height": 81
   },
   "source": "fueleconomy_df = pd.read_csv('FuelEconomy.csv')",
   "execution_count": null,
   "outputs": []
  },
  {
   "cell_type": "code",
   "metadata": {
    "cell_id": "00007-3bc7d3b5-45c6-4647-8c08-6cfe0d6372bc",
    "deepnote_to_be_reexecuted": false,
    "source_hash": "880e5b09",
    "execution_start": 1658073211548,
    "execution_millis": 60,
    "deepnote_app_coordinates": {
     "x": 0,
     "y": 43,
     "w": 12,
     "h": 5
    },
    "deepnote_cell_type": "code",
    "deepnote_cell_height": 600,
    "deepnote_output_heights": [
     611
    ]
   },
   "source": "fueleconomy_df.head(100)",
   "execution_count": null,
   "outputs": [
    {
     "output_type": "execute_result",
     "execution_count": 3,
     "data": {
      "application/vnd.deepnote.dataframe.v3+json": {
       "column_count": 2,
       "row_count": 100,
       "columns": [
        {
         "name": "Horse Power",
         "dtype": "float64",
         "stats": {
          "unique_count": 100,
          "nan_count": 0,
          "min": "50.0",
          "max": "350.0",
          "histogram": [
           {
            "bin_start": 50,
            "bin_end": 80,
            "count": 1
           },
           {
            "bin_start": 80,
            "bin_end": 110,
            "count": 3
           },
           {
            "bin_start": 110,
            "bin_end": 140,
            "count": 11
           },
           {
            "bin_start": 140,
            "bin_end": 170,
            "count": 8
           },
           {
            "bin_start": 170,
            "bin_end": 200,
            "count": 17
           },
           {
            "bin_start": 200,
            "bin_end": 230,
            "count": 18
           },
           {
            "bin_start": 230,
            "bin_end": 260,
            "count": 22
           },
           {
            "bin_start": 260,
            "bin_end": 290,
            "count": 8
           },
           {
            "bin_start": 290,
            "bin_end": 320,
            "count": 7
           },
           {
            "bin_start": 320,
            "bin_end": 350,
            "count": 5
           }
          ]
         }
        },
        {
         "name": "Fuel Economy (MPG)",
         "dtype": "float64",
         "stats": {
          "unique_count": 100,
          "nan_count": 0,
          "min": "10.0",
          "max": "35.0",
          "histogram": [
           {
            "bin_start": 10,
            "bin_end": 12.5,
            "count": 1
           },
           {
            "bin_start": 12.5,
            "bin_end": 15,
            "count": 1
           },
           {
            "bin_start": 15,
            "bin_end": 17.5,
            "count": 11
           },
           {
            "bin_start": 17.5,
            "bin_end": 20,
            "count": 10
           },
           {
            "bin_start": 20,
            "bin_end": 22.5,
            "count": 21
           },
           {
            "bin_start": 22.5,
            "bin_end": 25,
            "count": 24
           },
           {
            "bin_start": 25,
            "bin_end": 27.5,
            "count": 15
           },
           {
            "bin_start": 27.5,
            "bin_end": 30,
            "count": 9
           },
           {
            "bin_start": 30,
            "bin_end": 32.5,
            "count": 6
           },
           {
            "bin_start": 32.5,
            "bin_end": 35,
            "count": 2
           }
          ]
         }
        },
        {
         "name": "_deepnote_index_column",
         "dtype": "int64"
        }
       ],
       "rows": [
        {
         "Horse Power": 118.7707988,
         "Fuel Economy (MPG)": 29.34419493,
         "_deepnote_index_column": 0
        },
        {
         "Horse Power": 176.3265674,
         "Fuel Economy (MPG)": 24.6959341,
         "_deepnote_index_column": 1
        },
        {
         "Horse Power": 219.2624649,
         "Fuel Economy (MPG)": 23.95201001,
         "_deepnote_index_column": 2
        },
        {
         "Horse Power": 187.3100089,
         "Fuel Economy (MPG)": 23.38454579,
         "_deepnote_index_column": 3
        },
        {
         "Horse Power": 218.5943396,
         "Fuel Economy (MPG)": 23.42673926,
         "_deepnote_index_column": 4
        },
        {
         "Horse Power": 175.8381062,
         "Fuel Economy (MPG)": 24.17357106,
         "_deepnote_index_column": 5
        },
        {
         "Horse Power": 271.4416078,
         "Fuel Economy (MPG)": 17.16358348,
         "_deepnote_index_column": 6
        },
        {
         "Horse Power": 294.4259159,
         "Fuel Economy (MPG)": 17.27421781,
         "_deepnote_index_column": 7
        },
        {
         "Horse Power": 126.2110081,
         "Fuel Economy (MPG)": 28.71821022,
         "_deepnote_index_column": 8
        },
        {
         "Horse Power": 163.3503346,
         "Fuel Economy (MPG)": 28.28951641,
         "_deepnote_index_column": 9
        }
       ]
      },
      "text/plain": "    Horse Power  Fuel Economy (MPG)\n0    118.770799           29.344195\n1    176.326567           24.695934\n2    219.262465           23.952010\n3    187.310009           23.384546\n4    218.594340           23.426739\n..          ...                 ...\n95   162.810542           27.418661\n96   266.869640           15.989945\n97   243.831211           19.253375\n98   140.959803           29.515593\n99   184.123053           25.196097\n\n[100 rows x 2 columns]",
      "text/html": "<div>\n<style scoped>\n    .dataframe tbody tr th:only-of-type {\n        vertical-align: middle;\n    }\n\n    .dataframe tbody tr th {\n        vertical-align: top;\n    }\n\n    .dataframe thead th {\n        text-align: right;\n    }\n</style>\n<table border=\"1\" class=\"dataframe\">\n  <thead>\n    <tr style=\"text-align: right;\">\n      <th></th>\n      <th>Horse Power</th>\n      <th>Fuel Economy (MPG)</th>\n    </tr>\n  </thead>\n  <tbody>\n    <tr>\n      <th>0</th>\n      <td>118.770799</td>\n      <td>29.344195</td>\n    </tr>\n    <tr>\n      <th>1</th>\n      <td>176.326567</td>\n      <td>24.695934</td>\n    </tr>\n    <tr>\n      <th>2</th>\n      <td>219.262465</td>\n      <td>23.952010</td>\n    </tr>\n    <tr>\n      <th>3</th>\n      <td>187.310009</td>\n      <td>23.384546</td>\n    </tr>\n    <tr>\n      <th>4</th>\n      <td>218.594340</td>\n      <td>23.426739</td>\n    </tr>\n    <tr>\n      <th>...</th>\n      <td>...</td>\n      <td>...</td>\n    </tr>\n    <tr>\n      <th>95</th>\n      <td>162.810542</td>\n      <td>27.418661</td>\n    </tr>\n    <tr>\n      <th>96</th>\n      <td>266.869640</td>\n      <td>15.989945</td>\n    </tr>\n    <tr>\n      <th>97</th>\n      <td>243.831211</td>\n      <td>19.253375</td>\n    </tr>\n    <tr>\n      <th>98</th>\n      <td>140.959803</td>\n      <td>29.515593</td>\n    </tr>\n    <tr>\n      <th>99</th>\n      <td>184.123053</td>\n      <td>25.196097</td>\n    </tr>\n  </tbody>\n</table>\n<p>100 rows × 2 columns</p>\n</div>"
     },
     "metadata": {}
    }
   ]
  },
  {
   "cell_type": "code",
   "metadata": {
    "cell_id": "00010-d4c5468b-ca41-4a69-8873-7b0c58b86370",
    "deepnote_to_be_reexecuted": false,
    "source_hash": "10a08cf6",
    "execution_start": 1658073220753,
    "execution_millis": 38,
    "deepnote_app_coordinates": {
     "x": 0,
     "y": 49,
     "w": 12,
     "h": 5
    },
    "deepnote_cell_type": "code",
    "deepnote_cell_height": 518,
    "deepnote_output_heights": [
     264
    ]
   },
   "source": "fueleconomy_df.describe()",
   "execution_count": null,
   "outputs": [
    {
     "output_type": "execute_result",
     "execution_count": 4,
     "data": {
      "application/vnd.deepnote.dataframe.v3+json": {
       "column_count": 2,
       "row_count": 8,
       "columns": [
        {
         "name": "Horse Power",
         "dtype": "float64",
         "stats": {
          "unique_count": 8,
          "nan_count": 0,
          "min": "50.0",
          "max": "350.0",
          "histogram": [
           {
            "bin_start": 50,
            "bin_end": 80,
            "count": 2
           },
           {
            "bin_start": 80,
            "bin_end": 110,
            "count": 1
           },
           {
            "bin_start": 110,
            "bin_end": 140,
            "count": 0
           },
           {
            "bin_start": 140,
            "bin_end": 170,
            "count": 0
           },
           {
            "bin_start": 170,
            "bin_end": 200,
            "count": 1
           },
           {
            "bin_start": 200,
            "bin_end": 230,
            "count": 2
           },
           {
            "bin_start": 230,
            "bin_end": 260,
            "count": 1
           },
           {
            "bin_start": 260,
            "bin_end": 290,
            "count": 0
           },
           {
            "bin_start": 290,
            "bin_end": 320,
            "count": 0
           },
           {
            "bin_start": 320,
            "bin_end": 350,
            "count": 1
           }
          ]
         }
        },
        {
         "name": "Fuel Economy (MPG)",
         "dtype": "float64",
         "stats": {
          "unique_count": 8,
          "nan_count": 0,
          "min": "4.7016657692312265",
          "max": "100.0",
          "histogram": [
           {
            "bin_start": 4.7016657692312265,
            "bin_end": 14.231499192308103,
            "count": 2
           },
           {
            "bin_start": 14.231499192308103,
            "bin_end": 23.76133261538498,
            "count": 3
           },
           {
            "bin_start": 23.76133261538498,
            "bin_end": 33.29116603846185,
            "count": 1
           },
           {
            "bin_start": 33.29116603846185,
            "bin_end": 42.82099946153873,
            "count": 1
           },
           {
            "bin_start": 42.82099946153873,
            "bin_end": 52.35083288461561,
            "count": 0
           },
           {
            "bin_start": 52.35083288461561,
            "bin_end": 61.880666307692486,
            "count": 0
           },
           {
            "bin_start": 61.880666307692486,
            "bin_end": 71.41049973076936,
            "count": 0
           },
           {
            "bin_start": 71.41049973076936,
            "bin_end": 80.94033315384624,
            "count": 0
           },
           {
            "bin_start": 80.94033315384624,
            "bin_end": 90.47016657692312,
            "count": 0
           },
           {
            "bin_start": 90.47016657692312,
            "bin_end": 100,
            "count": 1
           }
          ]
         }
        },
        {
         "name": "_deepnote_index_column",
         "dtype": "object"
        }
       ],
       "rows": [
        {
         "Horse Power": 100,
         "Fuel Economy (MPG)": 100,
         "_deepnote_index_column": "count"
        },
        {
         "Horse Power": 213.6761902892,
         "Fuel Economy (MPG)": 23.178500791199998,
         "_deepnote_index_column": "mean"
        },
        {
         "Horse Power": 62.06172562195314,
         "Fuel Economy (MPG)": 4.7016657692312265,
         "_deepnote_index_column": "std"
        },
        {
         "Horse Power": 50,
         "Fuel Economy (MPG)": 10,
         "_deepnote_index_column": "min"
        },
        {
         "Horse Power": 174.99651385,
         "Fuel Economy (MPG)": 20.439515550000003,
         "_deepnote_index_column": "25%"
        },
        {
         "Horse Power": 218.92840225,
         "Fuel Economy (MPG)": 23.143191975,
         "_deepnote_index_column": "50%"
        },
        {
         "Horse Power": 251.7064757,
         "Fuel Economy (MPG)": 26.0899329225,
         "_deepnote_index_column": "75%"
        },
        {
         "Horse Power": 350,
         "Fuel Economy (MPG)": 35,
         "_deepnote_index_column": "max"
        }
       ]
      },
      "text/plain": "       Horse Power  Fuel Economy (MPG)\ncount   100.000000          100.000000\nmean    213.676190           23.178501\nstd      62.061726            4.701666\nmin      50.000000           10.000000\n25%     174.996514           20.439516\n50%     218.928402           23.143192\n75%     251.706476           26.089933\nmax     350.000000           35.000000",
      "text/html": "<div>\n<style scoped>\n    .dataframe tbody tr th:only-of-type {\n        vertical-align: middle;\n    }\n\n    .dataframe tbody tr th {\n        vertical-align: top;\n    }\n\n    .dataframe thead th {\n        text-align: right;\n    }\n</style>\n<table border=\"1\" class=\"dataframe\">\n  <thead>\n    <tr style=\"text-align: right;\">\n      <th></th>\n      <th>Horse Power</th>\n      <th>Fuel Economy (MPG)</th>\n    </tr>\n  </thead>\n  <tbody>\n    <tr>\n      <th>count</th>\n      <td>100.000000</td>\n      <td>100.000000</td>\n    </tr>\n    <tr>\n      <th>mean</th>\n      <td>213.676190</td>\n      <td>23.178501</td>\n    </tr>\n    <tr>\n      <th>std</th>\n      <td>62.061726</td>\n      <td>4.701666</td>\n    </tr>\n    <tr>\n      <th>min</th>\n      <td>50.000000</td>\n      <td>10.000000</td>\n    </tr>\n    <tr>\n      <th>25%</th>\n      <td>174.996514</td>\n      <td>20.439516</td>\n    </tr>\n    <tr>\n      <th>50%</th>\n      <td>218.928402</td>\n      <td>23.143192</td>\n    </tr>\n    <tr>\n      <th>75%</th>\n      <td>251.706476</td>\n      <td>26.089933</td>\n    </tr>\n    <tr>\n      <th>max</th>\n      <td>350.000000</td>\n      <td>35.000000</td>\n    </tr>\n  </tbody>\n</table>\n</div>"
     },
     "metadata": {}
    }
   ]
  },
  {
   "cell_type": "code",
   "metadata": {
    "scrolled": true,
    "cell_id": "00011-184ef3ea-da2e-453c-aef7-4cc6f26e5813",
    "deepnote_to_be_reexecuted": false,
    "source_hash": "26a52cd5",
    "execution_start": 1658073227228,
    "execution_millis": 630,
    "deepnote_app_coordinates": {
     "x": 0,
     "y": 55,
     "w": 12,
     "h": 5
    },
    "deepnote_cell_type": "code",
    "deepnote_cell_height": 273.6875
   },
   "source": "fueleconomy_df.info()",
   "execution_count": null,
   "outputs": [
    {
     "name": "stdout",
     "text": "<class 'pandas.core.frame.DataFrame'>\nRangeIndex: 100 entries, 0 to 99\nData columns (total 2 columns):\n #   Column              Non-Null Count  Dtype  \n---  ------              --------------  -----  \n 0   Horse Power         100 non-null    float64\n 1   Fuel Economy (MPG)  100 non-null    float64\ndtypes: float64(2)\nmemory usage: 1.7 KB\n",
     "output_type": "stream"
    }
   ]
  },
  {
   "cell_type": "markdown",
   "source": "# VISUALIZE DATASET",
   "metadata": {
    "cell_id": "00012-d3ac2c9e-9452-4eea-bf30-1fd84fd5090e",
    "deepnote_app_coordinates": {
     "x": 0,
     "y": 61,
     "w": 12,
     "h": 5
    },
    "deepnote_cell_type": "markdown",
    "deepnote_cell_height": 82
   }
  },
  {
   "cell_type": "code",
   "metadata": {
    "scrolled": false,
    "cell_id": "00014-ad7f75a8-5fcf-4dbe-a1b6-89e8debfadc2",
    "deepnote_to_be_reexecuted": false,
    "source_hash": "fc5e5cce",
    "execution_start": 1658073235853,
    "execution_millis": 1290,
    "deepnote_app_coordinates": {
     "x": 0,
     "y": 67,
     "w": 12,
     "h": 5
    },
    "deepnote_cell_type": "code",
    "deepnote_cell_height": 575.1875,
    "deepnote_output_heights": [
     21.1875,
     426
    ]
   },
   "source": "sns.jointplot(x = 'Horse Power', y = 'Fuel Economy (MPG)', data = fueleconomy_df)",
   "execution_count": null,
   "outputs": [
    {
     "output_type": "execute_result",
     "execution_count": 6,
     "data": {
      "text/plain": "<seaborn.axisgrid.JointGrid at 0x7f0c82009040>"
     },
     "metadata": {}
    },
    {
     "data": {
      "text/plain": "<Figure size 432x432 with 3 Axes>",
      "image/png": "[encoded data removed]"
     },
     "metadata": {
      "needs_background": "light",
      "image/png": {
       "width": 421,
       "height": 424
      }
     },
     "output_type": "display_data"
    }
   ]
  },
  {
   "cell_type": "code",
   "metadata": {
    "cell_id": "00016-7a77f230-edc3-4809-aa50-7022597ee052",
    "deepnote_to_be_reexecuted": false,
    "source_hash": "f25dc86e",
    "execution_start": 1658073242181,
    "execution_millis": 1957,
    "deepnote_app_coordinates": {
     "x": 0,
     "y": 73,
     "w": 12,
     "h": 5
    },
    "deepnote_cell_type": "code",
    "deepnote_cell_height": 508.1875,
    "deepnote_output_heights": [
     21.1875,
     359
    ]
   },
   "source": "sns.pairplot(fueleconomy_df)",
   "execution_count": null,
   "outputs": [
    {
     "output_type": "execute_result",
     "execution_count": 7,
     "data": {
      "text/plain": "<seaborn.axisgrid.PairGrid at 0x7f0c82009880>"
     },
     "metadata": {}
    },
    {
     "data": {
      "text/plain": "<Figure size 360x360 with 6 Axes>",
      "image/png": "[encoded data removed]"
     },
     "metadata": {
      "needs_background": "light",
      "image/png": {
       "width": 357,
       "height": 357
      }
     },
     "output_type": "display_data"
    }
   ]
  },
  {
   "cell_type": "code",
   "metadata": {
    "cell_id": "00017-ab6763fe-5ccd-4b39-9973-3841288b8cab",
    "deepnote_to_be_reexecuted": false,
    "source_hash": "bd3b987b",
    "execution_start": 1658073248253,
    "execution_millis": 842,
    "deepnote_app_coordinates": {
     "x": 0,
     "y": 79,
     "w": 12,
     "h": 5
    },
    "deepnote_cell_type": "code",
    "deepnote_cell_height": 503.1875,
    "deepnote_output_heights": [
     21.1875,
     354
    ]
   },
   "source": "sns.lmplot(x = 'Horse Power', y =  'Fuel Economy (MPG)', data = fueleconomy_df)",
   "execution_count": null,
   "outputs": [
    {
     "output_type": "execute_result",
     "execution_count": 8,
     "data": {
      "text/plain": "<seaborn.axisgrid.FacetGrid at 0x7f0c78598af0>"
     },
     "metadata": {}
    },
    {
     "data": {
      "text/plain": "<Figure size 360x360 with 1 Axes>",
      "image/png": "[encoded data removed]"
     },
     "metadata": {
      "needs_background": "light",
      "image/png": {
       "width": 352,
       "height": 352
      }
     },
     "output_type": "display_data"
    }
   ]
  },
  {
   "cell_type": "markdown",
   "source": "# CREATE TESTING AND TRAINING DATASET",
   "metadata": {
    "cell_id": "00019-acc4798e-4688-4ca3-babf-ddaededb7bce",
    "deepnote_app_coordinates": {
     "x": 0,
     "y": 85,
     "w": 12,
     "h": 5
    },
    "deepnote_cell_type": "markdown",
    "deepnote_cell_height": 134
   }
  },
  {
   "cell_type": "code",
   "metadata": {
    "cell_id": "00020-f56505ad-c1ff-49a0-bc3e-f2b40a5448e9",
    "deepnote_to_be_reexecuted": false,
    "source_hash": "c63249",
    "execution_start": 1658073287855,
    "execution_millis": 1,
    "deepnote_app_coordinates": {
     "x": 0,
     "y": 91,
     "w": 12,
     "h": 5
    },
    "deepnote_cell_type": "code",
    "deepnote_cell_height": 81
   },
   "source": "X = fueleconomy_df[['Horse Power']]",
   "execution_count": null,
   "outputs": []
  },
  {
   "cell_type": "code",
   "metadata": {
    "cell_id": "00021-19e059bb-4359-4f89-b77e-99242ec4aa16",
    "deepnote_to_be_reexecuted": false,
    "source_hash": "9af3c76c",
    "execution_start": 1658073290925,
    "execution_millis": 2,
    "deepnote_app_coordinates": {
     "x": 0,
     "y": 97,
     "w": 12,
     "h": 5
    },
    "deepnote_cell_type": "code",
    "deepnote_cell_height": 81
   },
   "source": "y = fueleconomy_df['Fuel Economy (MPG)']",
   "execution_count": null,
   "outputs": []
  },
  {
   "cell_type": "code",
   "metadata": {
    "cell_id": "00022-c654b598-1c51-43a0-b00f-4aa066d67ee9",
    "deepnote_to_be_reexecuted": false,
    "source_hash": "b2696ff6",
    "execution_start": 1658073294959,
    "execution_millis": 15,
    "deepnote_app_coordinates": {
     "x": 0,
     "y": 103,
     "w": 12,
     "h": 5
    },
    "deepnote_cell_type": "code",
    "deepnote_cell_height": 600,
    "deepnote_output_heights": [
     611
    ]
   },
   "source": "X",
   "execution_count": null,
   "outputs": [
    {
     "output_type": "execute_result",
     "execution_count": 11,
     "data": {
      "application/vnd.deepnote.dataframe.v3+json": {
       "column_count": 1,
       "row_count": 100,
       "columns": [
        {
         "name": "Horse Power",
         "dtype": "float64",
         "stats": {
          "unique_count": 100,
          "nan_count": 0,
          "min": "50.0",
          "max": "350.0",
          "histogram": [
           {
            "bin_start": 50,
            "bin_end": 80,
            "count": 1
           },
           {
            "bin_start": 80,
            "bin_end": 110,
            "count": 3
           },
           {
            "bin_start": 110,
            "bin_end": 140,
            "count": 11
           },
           {
            "bin_start": 140,
            "bin_end": 170,
            "count": 8
           },
           {
            "bin_start": 170,
            "bin_end": 200,
            "count": 17
           },
           {
            "bin_start": 200,
            "bin_end": 230,
            "count": 18
           },
           {
            "bin_start": 230,
            "bin_end": 260,
            "count": 22
           },
           {
            "bin_start": 260,
            "bin_end": 290,
            "count": 8
           },
           {
            "bin_start": 290,
            "bin_end": 320,
            "count": 7
           },
           {
            "bin_start": 320,
            "bin_end": 350,
            "count": 5
           }
          ]
         }
        },
        {
         "name": "_deepnote_index_column",
         "dtype": "int64"
        }
       ],
       "rows": [
        {
         "Horse Power": 118.7707988,
         "_deepnote_index_column": 0
        },
        {
         "Horse Power": 176.3265674,
         "_deepnote_index_column": 1
        },
        {
         "Horse Power": 219.2624649,
         "_deepnote_index_column": 2
        },
        {
         "Horse Power": 187.3100089,
         "_deepnote_index_column": 3
        },
        {
         "Horse Power": 218.5943396,
         "_deepnote_index_column": 4
        },
        {
         "Horse Power": 175.8381062,
         "_deepnote_index_column": 5
        },
        {
         "Horse Power": 271.4416078,
         "_deepnote_index_column": 6
        },
        {
         "Horse Power": 294.4259159,
         "_deepnote_index_column": 7
        },
        {
         "Horse Power": 126.2110081,
         "_deepnote_index_column": 8
        },
        {
         "Horse Power": 163.3503346,
         "_deepnote_index_column": 9
        }
       ]
      },
      "text/plain": "    Horse Power\n0    118.770799\n1    176.326567\n2    219.262465\n3    187.310009\n4    218.594340\n..          ...\n95   162.810542\n96   266.869640\n97   243.831211\n98   140.959803\n99   184.123053\n\n[100 rows x 1 columns]",
      "text/html": "<div>\n<style scoped>\n    .dataframe tbody tr th:only-of-type {\n        vertical-align: middle;\n    }\n\n    .dataframe tbody tr th {\n        vertical-align: top;\n    }\n\n    .dataframe thead th {\n        text-align: right;\n    }\n</style>\n<table border=\"1\" class=\"dataframe\">\n  <thead>\n    <tr style=\"text-align: right;\">\n      <th></th>\n      <th>Horse Power</th>\n    </tr>\n  </thead>\n  <tbody>\n    <tr>\n      <th>0</th>\n      <td>118.770799</td>\n    </tr>\n    <tr>\n      <th>1</th>\n      <td>176.326567</td>\n    </tr>\n    <tr>\n      <th>2</th>\n      <td>219.262465</td>\n    </tr>\n    <tr>\n      <th>3</th>\n      <td>187.310009</td>\n    </tr>\n    <tr>\n      <th>4</th>\n      <td>218.594340</td>\n    </tr>\n    <tr>\n      <th>...</th>\n      <td>...</td>\n    </tr>\n    <tr>\n      <th>95</th>\n      <td>162.810542</td>\n    </tr>\n    <tr>\n      <th>96</th>\n      <td>266.869640</td>\n    </tr>\n    <tr>\n      <th>97</th>\n      <td>243.831211</td>\n    </tr>\n    <tr>\n      <th>98</th>\n      <td>140.959803</td>\n    </tr>\n    <tr>\n      <th>99</th>\n      <td>184.123053</td>\n    </tr>\n  </tbody>\n</table>\n<p>100 rows × 1 columns</p>\n</div>"
     },
     "metadata": {}
    }
   ]
  },
  {
   "cell_type": "code",
   "metadata": {
    "cell_id": "00023-25ca50c2-3ea5-47f3-92db-b5a0e389bb79",
    "deepnote_to_be_reexecuted": false,
    "source_hash": "ce04b77e",
    "execution_start": 1658073301711,
    "execution_millis": 8,
    "deepnote_app_coordinates": {
     "x": 0,
     "y": 109,
     "w": 12,
     "h": 5
    },
    "deepnote_cell_type": "code",
    "deepnote_cell_height": 329.25,
    "deepnote_output_heights": [
     232.25
    ]
   },
   "source": "y",
   "execution_count": null,
   "outputs": [
    {
     "output_type": "execute_result",
     "execution_count": 12,
     "data": {
      "text/plain": "0     29.344195\n1     24.695934\n2     23.952010\n3     23.384546\n4     23.426739\n        ...    \n95    27.418661\n96    15.989945\n97    19.253375\n98    29.515593\n99    25.196097\nName: Fuel Economy (MPG), Length: 100, dtype: float64"
     },
     "metadata": {}
    }
   ]
  },
  {
   "cell_type": "code",
   "metadata": {
    "cell_id": "00024-c086ea77-4047-4394-ba42-5df3c57b7225",
    "deepnote_to_be_reexecuted": false,
    "source_hash": "83f8c40",
    "execution_start": 1658073312383,
    "execution_millis": 443,
    "deepnote_app_coordinates": {
     "x": 0,
     "y": 115,
     "w": 12,
     "h": 5
    },
    "deepnote_cell_type": "code",
    "deepnote_cell_height": 118.1875,
    "deepnote_output_heights": [
     21.1875
    ]
   },
   "source": "X.shape",
   "execution_count": null,
   "outputs": [
    {
     "output_type": "execute_result",
     "execution_count": 13,
     "data": {
      "text/plain": "(100, 1)"
     },
     "metadata": {}
    }
   ]
  },
  {
   "cell_type": "code",
   "metadata": {
    "cell_id": "00025-52db6453-5879-4182-b5d5-14779c2b1dc7",
    "deepnote_to_be_reexecuted": false,
    "source_hash": "5ea8210f",
    "execution_start": 1658073315686,
    "execution_millis": 335,
    "deepnote_app_coordinates": {
     "x": 0,
     "y": 121,
     "w": 12,
     "h": 5
    },
    "deepnote_cell_type": "code",
    "deepnote_cell_height": 99
   },
   "source": "from sklearn.model_selection import train_test_split\nX_train, X_test, y_train, y_test = train_test_split(X, y, test_size = 0.3)",
   "execution_count": null,
   "outputs": []
  },
  {
   "cell_type": "code",
   "metadata": {
    "cell_id": "00026-130e998b-a60b-4de0-963c-3e196e879fe8",
    "deepnote_to_be_reexecuted": false,
    "source_hash": "38f368cd",
    "execution_start": 1658073319714,
    "execution_millis": 7,
    "deepnote_app_coordinates": {
     "x": 0,
     "y": 127,
     "w": 12,
     "h": 5
    },
    "deepnote_cell_type": "code",
    "deepnote_cell_height": 118.1875,
    "deepnote_output_heights": [
     21.1875
    ]
   },
   "source": "X_train.shape",
   "execution_count": null,
   "outputs": [
    {
     "output_type": "execute_result",
     "execution_count": 15,
     "data": {
      "text/plain": "(70, 1)"
     },
     "metadata": {}
    }
   ]
  },
  {
   "cell_type": "code",
   "metadata": {
    "cell_id": "00027-0da7da91-1893-4f45-b300-46adc1aa5cb5",
    "deepnote_to_be_reexecuted": false,
    "source_hash": "251bcee5",
    "execution_start": 1658073323333,
    "execution_millis": 1,
    "deepnote_app_coordinates": {
     "x": 0,
     "y": 133,
     "w": 12,
     "h": 5
    },
    "deepnote_cell_type": "code",
    "deepnote_cell_height": 118.1875,
    "deepnote_output_heights": [
     21.1875
    ]
   },
   "source": "X_test.shape",
   "execution_count": null,
   "outputs": [
    {
     "output_type": "execute_result",
     "execution_count": 16,
     "data": {
      "text/plain": "(30, 1)"
     },
     "metadata": {}
    }
   ]
  },
  {
   "cell_type": "markdown",
   "source": "# STEP 5: TRAIN THE MODEL",
   "metadata": {
    "cell_id": "00028-144cb2a0-a98e-4f60-9006-1a394454ef1a",
    "deepnote_app_coordinates": {
     "x": 0,
     "y": 139,
     "w": 12,
     "h": 5
    },
    "deepnote_cell_type": "markdown",
    "deepnote_cell_height": 82
   }
  },
  {
   "cell_type": "code",
   "metadata": {
    "cell_id": "00031-44f6e5cc-1a43-4037-8e86-c95e92b8f07a",
    "deepnote_to_be_reexecuted": false,
    "source_hash": "694b841c",
    "execution_start": 1658073327124,
    "execution_millis": 263,
    "deepnote_app_coordinates": {
     "x": 0,
     "y": 145,
     "w": 12,
     "h": 5
    },
    "deepnote_cell_type": "code",
    "deepnote_cell_height": 193.34375,
    "deepnote_output_heights": [
     60.34375
    ]
   },
   "source": "from sklearn.linear_model import LinearRegression\nregressor = LinearRegression(fit_intercept = True)\nregressor.fit(X_train, y_train)",
   "execution_count": null,
   "outputs": [
    {
     "output_type": "execute_result",
     "execution_count": 17,
     "data": {
      "text/plain": "LinearRegression()",
      "text/html": "<style>#sk-container-id-1 {color: black;background-color: white;}#sk-container-id-1 pre{padding: 0;}#sk-container-id-1 div.sk-toggleable {background-color: white;}#sk-container-id-1 label.sk-toggleable__label {cursor: pointer;display: block;width: 100%;margin-bottom: 0;padding: 0.3em;box-sizing: border-box;text-align: center;}#sk-container-id-1 label.sk-toggleable__label-arrow:before {content: \"▸\";float: left;margin-right: 0.25em;color: #696969;}#sk-container-id-1 label.sk-toggleable__label-arrow:hover:before {color: black;}#sk-container-id-1 div.sk-estimator:hover label.sk-toggleable__label-arrow:before {color: black;}#sk-container-id-1 div.sk-toggleable__content {max-height: 0;max-width: 0;overflow: hidden;text-align: left;background-color: #f0f8ff;}#sk-container-id-1 div.sk-toggleable__content pre {margin: 0.2em;color: black;border-radius: 0.25em;background-color: #f0f8ff;}#sk-container-id-1 input.sk-toggleable__control:checked~div.sk-toggleable__content {max-height: 200px;max-width: 100%;overflow: auto;}#sk-container-id-1 input.sk-toggleable__control:checked~label.sk-toggleable__label-arrow:before {content: \"▾\";}#sk-container-id-1 div.sk-estimator input.sk-toggleable__control:checked~label.sk-toggleable__label {background-color: #d4ebff;}#sk-container-id-1 div.sk-label input.sk-toggleable__control:checked~label.sk-toggleable__label {background-color: #d4ebff;}#sk-container-id-1 input.sk-hidden--visually {border: 0;clip: rect(1px 1px 1px 1px);clip: rect(1px, 1px, 1px, 1px);height: 1px;margin: -1px;overflow: hidden;padding: 0;position: absolute;width: 1px;}#sk-container-id-1 div.sk-estimator {font-family: monospace;background-color: #f0f8ff;border: 1px dotted black;border-radius: 0.25em;box-sizing: border-box;margin-bottom: 0.5em;}#sk-container-id-1 div.sk-estimator:hover {background-color: #d4ebff;}#sk-container-id-1 div.sk-parallel-item::after {content: \"\";width: 100%;border-bottom: 1px solid gray;flex-grow: 1;}#sk-container-id-1 div.sk-label:hover label.sk-toggleable__label {background-color: #d4ebff;}#sk-container-id-1 div.sk-serial::before {content: \"\";position: absolute;border-left: 1px solid gray;box-sizing: border-box;top: 0;bottom: 0;left: 50%;z-index: 0;}#sk-container-id-1 div.sk-serial {display: flex;flex-direction: column;align-items: center;background-color: white;padding-right: 0.2em;padding-left: 0.2em;position: relative;}#sk-container-id-1 div.sk-item {position: relative;z-index: 1;}#sk-container-id-1 div.sk-parallel {display: flex;align-items: stretch;justify-content: center;background-color: white;position: relative;}#sk-container-id-1 div.sk-item::before, #sk-container-id-1 div.sk-parallel-item::before {content: \"\";position: absolute;border-left: 1px solid gray;box-sizing: border-box;top: 0;bottom: 0;left: 50%;z-index: -1;}#sk-container-id-1 div.sk-parallel-item {display: flex;flex-direction: column;z-index: 1;position: relative;background-color: white;}#sk-container-id-1 div.sk-parallel-item:first-child::after {align-self: flex-end;width: 50%;}#sk-container-id-1 div.sk-parallel-item:last-child::after {align-self: flex-start;width: 50%;}#sk-container-id-1 div.sk-parallel-item:only-child::after {width: 0;}#sk-container-id-1 div.sk-dashed-wrapped {border: 1px dashed gray;margin: 0 0.4em 0.5em 0.4em;box-sizing: border-box;padding-bottom: 0.4em;background-color: white;}#sk-container-id-1 div.sk-label label {font-family: monospace;font-weight: bold;display: inline-block;line-height: 1.2em;}#sk-container-id-1 div.sk-label-container {text-align: center;}#sk-container-id-1 div.sk-container {/* jupyter's `normalize.less` sets `[hidden] { display: none; }` but bootstrap.min.css set `[hidden] { display: none !important; }` so we also need the `!important` here to be able to override the default hidden behavior on the sphinx rendered scikit-learn.org. See: https://github.com/scikit-learn/scikit-learn/issues/21755 */display: inline-block !important;position: relative;}#sk-container-id-1 div.sk-text-repr-fallback {display: none;}</style><div id=\"sk-container-id-1\" class=\"sk-top-container\"><div class=\"sk-text-repr-fallback\"><pre>LinearRegression()</pre><b>In a Jupyter environment, please rerun this cell to show the HTML representation or trust the notebook. <br />On GitHub, the HTML representation is unable to render, please try loading this page with nbviewer.org.</b></div><div class=\"sk-container\" hidden><div class=\"sk-item\"><div class=\"sk-estimator sk-toggleable\"><input class=\"sk-toggleable__control sk-hidden--visually\" id=\"sk-estimator-id-1\" type=\"checkbox\" checked><label for=\"sk-estimator-id-1\" class=\"sk-toggleable__label sk-toggleable__label-arrow\">LinearRegression</label><div class=\"sk-toggleable__content\"><pre>LinearRegression()</pre></div></div></div></div></div>"
     },
     "metadata": {}
    }
   ]
  },
  {
   "cell_type": "code",
   "metadata": {
    "cell_id": "00032-cc5be5f7-d8af-4138-939c-f0ea6a95be8b",
    "deepnote_to_be_reexecuted": false,
    "source_hash": "380924be",
    "execution_start": 1658073575139,
    "execution_millis": 3,
    "deepnote_app_coordinates": {
     "x": 0,
     "y": 151,
     "w": 12,
     "h": 5
    },
    "deepnote_cell_type": "code",
    "deepnote_cell_height": 150.375
   },
   "source": "print('Linear Model Coeff (m):', regressor.coef_)\nprint('Linear Model Coeff (b):', regressor.intercept_)",
   "execution_count": null,
   "outputs": [
    {
     "name": "stdout",
     "text": "Linear Model Coeff (m): [-0.07240164]\nLinear Model Coeff (b): 38.64761970871443\n",
     "output_type": "stream"
    }
   ]
  },
  {
   "cell_type": "code",
   "metadata": {
    "cell_id": "9508cf51067b4f7c969283c6692030f7",
    "tags": [],
    "deepnote_to_be_reexecuted": false,
    "source_hash": "7a48438e",
    "execution_start": 1658074211883,
    "execution_millis": 12156,
    "deepnote_app_coordinates": {
     "x": 0,
     "y": 199,
     "w": 12,
     "h": 5
    },
    "deepnote_cell_type": "code",
    "deepnote_cell_height": 544.75
   },
   "source": "pip install statsmodels",
   "execution_count": null,
   "outputs": [
    {
     "name": "stdout",
     "text": "Collecting statsmodels\n  Downloading statsmodels-0.13.2-cp39-cp39-manylinux_2_17_x86_64.manylinux2014_x86_64.whl (9.9 MB)\n\u001b[2K     \u001b[90m━━━━━━━━━━━━━━━━━━━━━━━━━━━━━━━━━━━━━━━━\u001b[0m \u001b[32m9.9/9.9 MB\u001b[0m \u001b[31m96.4 MB/s\u001b[0m eta \u001b[36m0:00:00\u001b[0m\n\u001b[?25hRequirement already satisfied: packaging>=21.3 in /shared-libs/python3.9/py/lib/python3.9/site-packages (from statsmodels) (21.3)\nCollecting patsy>=0.5.2\n  Downloading patsy-0.5.2-py2.py3-none-any.whl (233 kB)\n\u001b[2K     \u001b[90m━━━━━━━━━━━━━━━━━━━━━━━━━━━━━━━━━━━━━━\u001b[0m \u001b[32m233.7/233.7 KB\u001b[0m \u001b[31m36.6 MB/s\u001b[0m eta \u001b[36m0:00:00\u001b[0m\n\u001b[?25hRequirement already satisfied: pandas>=0.25 in /shared-libs/python3.9/py/lib/python3.9/site-packages (from statsmodels) (1.2.5)\nRequirement already satisfied: scipy>=1.3 in /shared-libs/python3.9/py/lib/python3.9/site-packages (from statsmodels) (1.8.1)\nRequirement already satisfied: numpy>=1.17 in /shared-libs/python3.9/py/lib/python3.9/site-packages (from statsmodels) (1.22.4)\nRequirement already satisfied: pyparsing!=3.0.5,>=2.0.2 in /shared-libs/python3.9/py/lib/python3.9/site-packages (from packaging>=21.3->statsmodels) (3.0.9)\nRequirement already satisfied: python-dateutil>=2.7.3 in /shared-libs/python3.9/py-core/lib/python3.9/site-packages (from pandas>=0.25->statsmodels) (2.8.2)\nRequirement already satisfied: pytz>=2017.3 in /shared-libs/python3.9/py/lib/python3.9/site-packages (from pandas>=0.25->statsmodels) (2022.1)\nRequirement already satisfied: six in /shared-libs/python3.9/py-core/lib/python3.9/site-packages (from patsy>=0.5.2->statsmodels) (1.16.0)\nInstalling collected packages: patsy, statsmodels\nSuccessfully installed patsy-0.5.2 statsmodels-0.13.2\n\u001b[33mWARNING: Running pip as the 'root' user can result in broken permissions and conflicting behaviour with the system package manager. It is recommended to use a virtual environment instead: https://pip.pypa.io/warnings/venv\u001b[0m\u001b[33m\n\u001b[0m\u001b[33mWARNING: You are using pip version 22.0.4; however, version 22.1.2 is available.\nYou should consider upgrading via the '/usr/local/bin/python -m pip install --upgrade pip' command.\u001b[0m\u001b[33m\n\u001b[0mNote: you may need to restart the kernel to use updated packages.\n",
     "output_type": "stream"
    }
   ]
  },
  {
   "cell_type": "code",
   "metadata": {
    "cell_id": "a2f39ec9b181482e832ba6e4935ba236",
    "tags": [],
    "deepnote_to_be_reexecuted": false,
    "source_hash": "bd554b58",
    "execution_start": 1658074267141,
    "execution_millis": 107,
    "deepnote_app_coordinates": {
     "x": 0,
     "y": 193,
     "w": 12,
     "h": 5
    },
    "deepnote_cell_type": "code",
    "deepnote_cell_height": 792.75,
    "deepnote_output_heights": [
     587.75
    ]
   },
   "source": "# Use statsmodels to get a more detailed analysis of the regression model in Python\n\nimport statsmodels.api as sm\n\nmodel = sm.OLS(y_train, X_train.assign(const=1))\nresults = model.fit()\nresults.summary()",
   "execution_count": null,
   "outputs": [
    {
     "output_type": "execute_result",
     "execution_count": 27,
     "data": {
      "text/plain": "<class 'statsmodels.iolib.summary.Summary'>\n\"\"\"\n                            OLS Regression Results                            \n==============================================================================\nDep. Variable:     Fuel Economy (MPG)   R-squared:                       0.916\nModel:                            OLS   Adj. R-squared:                  0.914\nMethod:                 Least Squares   F-statistic:                     737.1\nDate:                Sun, 17 Jul 2022   Prob (F-statistic):           3.23e-38\nTime:                        16:11:07   Log-Likelihood:                -123.95\nNo. Observations:                  70   AIC:                             251.9\nDf Residuals:                      68   BIC:                             256.4\nDf Model:                           1                                         \nCovariance Type:            nonrobust                                         \n===============================================================================\n                  coef    std err          t      P>|t|      [0.025      0.975]\n-------------------------------------------------------------------------------\nHorse Power    -0.0724      0.003    -27.150      0.000      -0.078      -0.067\nconst          38.6476      0.591     65.439      0.000      37.469      39.826\n==============================================================================\nOmnibus:                        0.790   Durbin-Watson:                   2.223\nProb(Omnibus):                  0.674   Jarque-Bera (JB):                0.818\nSkew:                          -0.241   Prob(JB):                        0.664\nKurtosis:                       2.779   Cond. No.                         759.\n==============================================================================\n\nNotes:\n[1] Standard Errors assume that the covariance matrix of the errors is correctly specified.\n\"\"\"",
      "text/html": "<table class=\"simpletable\">\n<caption>OLS Regression Results</caption>\n<tr>\n  <th>Dep. Variable:</th>    <td>Fuel Economy (MPG)</td> <th>  R-squared:         </th> <td>   0.916</td>\n</tr>\n<tr>\n  <th>Model:</th>                    <td>OLS</td>        <th>  Adj. R-squared:    </th> <td>   0.914</td>\n</tr>\n<tr>\n  <th>Method:</th>              <td>Least Squares</td>   <th>  F-statistic:       </th> <td>   737.1</td>\n</tr>\n<tr>\n  <th>Date:</th>              <td>Sun, 17 Jul 2022</td>  <th>  Prob (F-statistic):</th> <td>3.23e-38</td>\n</tr>\n<tr>\n  <th>Time:</th>                  <td>16:11:07</td>      <th>  Log-Likelihood:    </th> <td> -123.95</td>\n</tr>\n<tr>\n  <th>No. Observations:</th>       <td>    70</td>       <th>  AIC:               </th> <td>   251.9</td>\n</tr>\n<tr>\n  <th>Df Residuals:</th>           <td>    68</td>       <th>  BIC:               </th> <td>   256.4</td>\n</tr>\n<tr>\n  <th>Df Model:</th>               <td>     1</td>       <th>                     </th>     <td> </td>   \n</tr>\n<tr>\n  <th>Covariance Type:</th>       <td>nonrobust</td>     <th>                     </th>     <td> </td>   \n</tr>\n</table>\n<table class=\"simpletable\">\n<tr>\n       <td></td>          <th>coef</th>     <th>std err</th>      <th>t</th>      <th>P>|t|</th>  <th>[0.025</th>    <th>0.975]</th>  \n</tr>\n<tr>\n  <th>Horse Power</th> <td>   -0.0724</td> <td>    0.003</td> <td>  -27.150</td> <td> 0.000</td> <td>   -0.078</td> <td>   -0.067</td>\n</tr>\n<tr>\n  <th>const</th>       <td>   38.6476</td> <td>    0.591</td> <td>   65.439</td> <td> 0.000</td> <td>   37.469</td> <td>   39.826</td>\n</tr>\n</table>\n<table class=\"simpletable\">\n<tr>\n  <th>Omnibus:</th>       <td> 0.790</td> <th>  Durbin-Watson:     </th> <td>   2.223</td>\n</tr>\n<tr>\n  <th>Prob(Omnibus):</th> <td> 0.674</td> <th>  Jarque-Bera (JB):  </th> <td>   0.818</td>\n</tr>\n<tr>\n  <th>Skew:</th>          <td>-0.241</td> <th>  Prob(JB):          </th> <td>   0.664</td>\n</tr>\n<tr>\n  <th>Kurtosis:</th>      <td> 2.779</td> <th>  Cond. No.          </th> <td>    759.</td>\n</tr>\n</table><br/><br/>Notes:<br/>[1] Standard Errors assume that the covariance matrix of the errors is correctly specified."
     },
     "metadata": {}
    }
   ]
  },
  {
   "cell_type": "code",
   "metadata": {
    "cell_id": "3c1e626b1343471ebdcb758bef70a7bc",
    "tags": [],
    "deepnote_to_be_reexecuted": false,
    "source_hash": "bc52f9ad",
    "execution_start": 1658074476874,
    "execution_millis": 0,
    "deepnote_app_coordinates": {
     "x": 0,
     "y": 205,
     "w": 12,
     "h": 5
    },
    "deepnote_cell_type": "code",
    "deepnote_cell_height": 81
   },
   "source": "# The variable Horse Power is related to the output with significance (P < 0.05)",
   "execution_count": null,
   "outputs": []
  },
  {
   "cell_type": "markdown",
   "source": "# TEST THE MODEL ",
   "metadata": {
    "cell_id": "00033-9a156f4d-f7eb-4a90-b763-2a012abdae2a",
    "deepnote_app_coordinates": {
     "x": 0,
     "y": 157,
     "w": 12,
     "h": 5
    },
    "deepnote_cell_type": "markdown",
    "deepnote_cell_height": 82
   }
  },
  {
   "cell_type": "code",
   "metadata": {
    "cell_id": "00034-cb62fece-649d-4784-81fb-9391e7d2314a",
    "deepnote_to_be_reexecuted": false,
    "source_hash": "63c0e60f",
    "execution_start": 1658074788051,
    "execution_millis": 30,
    "deepnote_app_coordinates": {
     "x": 0,
     "y": 163,
     "w": 12,
     "h": 5
    },
    "deepnote_cell_type": "code",
    "deepnote_cell_height": 258.375,
    "deepnote_output_heights": [
     117.125
    ]
   },
   "source": "from sklearn.metrics import mean_squared_error\nfrom sklearn.metrics import r2_score\n\ny_pred = regressor.predict(X_test)\nRMSE = np.sqrt(mean_squared_error(y_test, y_pred))\nr2 = r2_score(y_test, y_pred)\nprint(f'RMSE: {RMSE:.0f}')\nprint(f'r2: {r2:.4f}')",
   "execution_count": null,
   "outputs": [
    {
     "name": "stdout",
     "text": "RMSE: 1\nr2: 0.8891\n",
     "output_type": "stream"
    }
   ]
  },
  {
   "cell_type": "code",
   "metadata": {
    "cell_id": "00036-71757713-a534-4921-a2ac-97eacfbb0049",
    "deepnote_to_be_reexecuted": false,
    "source_hash": "1ba3a41c",
    "execution_start": 1658074800424,
    "execution_millis": 209,
    "deepnote_app_coordinates": {
     "x": 0,
     "y": 169,
     "w": 12,
     "h": 5
    },
    "deepnote_cell_type": "code",
    "deepnote_cell_height": 501.1875,
    "deepnote_output_heights": [
     21.1875,
     280
    ]
   },
   "source": "plt.scatter(X_train, y_train, color = 'gray')\nplt.plot(X_train, regressor.predict(X_train), color = 'blue')\nplt.xlabel('Horse Power (HP)')\nplt.ylabel('MPG')\nplt.title('HP vs. MPG (Training Set)')",
   "execution_count": null,
   "outputs": [
    {
     "output_type": "execute_result",
     "execution_count": 36,
     "data": {
      "text/plain": "Text(0.5, 1.0, 'HP vs. MPG (Training Set)')"
     },
     "metadata": {}
    },
    {
     "data": {
      "text/plain": "<Figure size 432x288 with 1 Axes>",
      "image/png": "[encoded data removed]"
     },
     "metadata": {
      "needs_background": "light",
      "image/png": {
       "width": 382,
       "height": 278
      }
     },
     "output_type": "display_data"
    }
   ]
  },
  {
   "cell_type": "code",
   "metadata": {
    "cell_id": "00037-82977bab-5d2e-48db-9092-0b395767aa5d",
    "deepnote_to_be_reexecuted": false,
    "source_hash": "1b231135",
    "execution_start": 1658074816039,
    "execution_millis": 392,
    "deepnote_app_coordinates": {
     "x": 0,
     "y": 175,
     "w": 12,
     "h": 5
    },
    "deepnote_cell_type": "code",
    "deepnote_cell_height": 501.1875,
    "deepnote_output_heights": [
     21.1875,
     280
    ]
   },
   "source": "plt.scatter(X_test, y_test, color = 'gray')\nplt.plot(X_test, regressor.predict(X_test), color = 'blue')\nplt.xlabel('Horse Power (HP)')\nplt.ylabel('MPG')\nplt.title('HP vs. MPG (Testing Set)')",
   "execution_count": null,
   "outputs": [
    {
     "output_type": "execute_result",
     "execution_count": 37,
     "data": {
      "text/plain": "Text(0.5, 1.0, 'HP vs. MPG (Testing Set)')"
     },
     "metadata": {}
    },
    {
     "data": {
      "text/plain": "<Figure size 432x288 with 1 Axes>",
      "image/png": "[encoded data removed]"
     },
     "metadata": {
      "needs_background": "light",
      "image/png": {
       "width": 392,
       "height": 278
      }
     },
     "output_type": "display_data"
    }
   ]
  },
  {
   "cell_type": "code",
   "metadata": {
    "cell_id": "00038-6c45a223-37ec-4c03-9ae2-89c2cf84883e",
    "deepnote_to_be_reexecuted": false,
    "source_hash": "b30c06c1",
    "execution_start": 1658075459855,
    "execution_millis": 2,
    "deepnote_app_coordinates": {
     "x": 0,
     "y": 181,
     "w": 12,
     "h": 5
    },
    "deepnote_cell_type": "code",
    "deepnote_cell_height": 153
   },
   "source": "# If HP is 500, what is the MPG?\n\nHP = np.array(500)\n\nHP = HP.reshape(1,-1)",
   "execution_count": null,
   "outputs": []
  },
  {
   "cell_type": "code",
   "metadata": {
    "cell_id": "00039-20498c58-af77-48df-aff6-9b62a676c413",
    "deepnote_to_be_reexecuted": false,
    "source_hash": "8c4874f",
    "execution_start": 1658075483227,
    "execution_millis": 14,
    "deepnote_cell_type": "code",
    "deepnote_cell_height": 206.5625,
    "deepnote_output_heights": [
     21.1875,
     21.1875
    ]
   },
   "source": "MPG = regressor.predict(HP)\nMPG",
   "execution_count": null,
   "outputs": [
    {
     "name": "stderr",
     "text": "/shared-libs/python3.9/py/lib/python3.9/site-packages/sklearn/base.py:450: UserWarning: X does not have valid feature names, but LinearRegression was fitted with feature names\n  warnings.warn(\n",
     "output_type": "stream"
    },
    {
     "output_type": "execute_result",
     "execution_count": 50,
     "data": {
      "text/plain": "array([2.44679804])"
     },
     "metadata": {}
    }
   ]
  },
  {
   "cell_type": "markdown",
   "source": "<a style='text-decoration:none;line-height:16px;display:flex;color:#5B5B62;padding:10px;justify-content:end;' href='https://deepnote.com?utm_source=created-in-deepnote-cell&projectId=52c36416-830a-46f9-8b9e-cd6ea1847ee2' target=\"_blank\">\n<img alt='Created in deepnote.com' style='display:inline;max-height:16px;margin:0px;margin-right:7.5px;' src='data:image/svg+xml;base64,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' > </img>\nCreated in <span style='font-weight:600;margin-left:4px;'>Deepnote</span></a>",
   "metadata": {
    "tags": [],
    "created_in_deepnote_cell": true,
    "deepnote_cell_type": "markdown"
   }
  }
 ],
 "nbformat": 4,
 "nbformat_minor": 1,
 "metadata": {
  "kernelspec": {
   "display_name": "Python 3",
   "language": "python",
   "name": "python3"
  },
  "language_info": {
   "codemirror_mode": {
    "name": "ipython",
    "version": 3
   },
   "file_extension": ".py",
   "mimetype": "text/x-python",
   "name": "python",
   "nbconvert_exporter": "python",
   "pygments_lexer": "ipython3",
   "version": "3.6.5"
  },
  "widgets": {
   "state": {},
   "version": "1.1.2"
  },
  "deepnote_notebook_id": "5578ccdf-7f91-44b4-bafb-4bae726cf246",
  "deepnote": {},
  "deepnote_app_layout": "article",
  "deepnote_execution_queue": []
 }
}