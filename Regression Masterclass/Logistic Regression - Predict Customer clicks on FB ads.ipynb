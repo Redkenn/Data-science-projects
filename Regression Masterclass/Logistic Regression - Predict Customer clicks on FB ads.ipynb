{
 "cells": [
  {
   "cell_type": "markdown",
   "source": "# Problem statement\n",
   "metadata": {
    "cell_id": "00001-77072b42-0761-43e1-b25d-12e0c594f32e",
    "deepnote_cell_type": "markdown",
    "deepnote_cell_height": 82
   }
  },
  {
   "cell_type": "markdown",
   "source": "You have been hired as a consultant to a start-up that is running a targetted marketing ads on facebook. The company wants to anaylze customer behaviour by predicting which customer clicks on the advertisement. Customer data is as follows: \n\nInputs: \n- Name \n- e-mail \n- Country \n- Time on Facebook \n- Estimated Salary (derived from other parameters)\n\nOutputs:\n- Click (1: customer clicked on Ad, 0: Customer did not click on the Ad)",
   "metadata": {
    "cell_id": "00002-efcddab9-173e-42da-b3ac-4fbe665d3da2",
    "deepnote_cell_type": "markdown",
    "deepnote_cell_height": 358.296875
   }
  },
  {
   "cell_type": "markdown",
   "source": "# Step 1: Data reading and insight\n",
   "metadata": {
    "cell_id": "00004-ecdcdf7f-0dcd-478a-bb05-7e8ad60fa6d2",
    "deepnote_cell_type": "markdown",
    "deepnote_cell_height": 82
   }
  },
  {
   "cell_type": "code",
   "metadata": {
    "cell_id": "00005-e8be66ff-4dbc-4846-a71e-6970ab576685",
    "deepnote_to_be_reexecuted": false,
    "source_hash": "4a3d3869",
    "execution_start": 1658223806537,
    "execution_millis": 3,
    "deepnote_cell_type": "code",
    "deepnote_cell_height": 585
   },
   "source": "import pandas as pd\nimport numpy as np\nimport seaborn as sns\nimport matplotlib.pyplot as plt\n%matplotlib inline\n\nsns.set_style('whitegrid')\nplt.style.use('seaborn-deep')\n\nimport warnings\nwarnings.filterwarnings('ignore')\nimport sklearn.metrics as skm\nimport sklearn.model_selection as skms\nimport sklearn.preprocessing as skp\nfrom sklearn.model_selection import GridSearchCV\nfrom sklearn.metrics import accuracy_score, precision_score, recall_score, roc_auc_score, f1_score, confusion_matrix, precision_recall_curve, roc_curve\nfrom sklearn.linear_model import LogisticRegression\nfrom sklearn.ensemble import RandomForestClassifier\nimport lightgbm as lgb\nfrom imblearn.under_sampling import RandomUnderSampler\nfrom imblearn.over_sampling import RandomOverSampler\nfrom imblearn.over_sampling import SMOTE\nimport random\n\n\nseed = 12\nnp.random.seed(seed)\n\nfrom datetime import date",
   "execution_count": 28,
   "outputs": []
  },
  {
   "cell_type": "markdown",
   "source": "# STEP #1: IMPORT DATASET",
   "metadata": {
    "cell_id": "00006-c8ac8ac4-17a2-45fa-80c8-94c880b0520e",
    "deepnote_cell_type": "markdown",
    "deepnote_cell_height": 82
   }
  },
  {
   "cell_type": "code",
   "metadata": {
    "scrolled": false,
    "cell_id": "00007-972028f1-cf2c-41f5-879a-58ecb4796286",
    "deepnote_to_be_reexecuted": false,
    "source_hash": "502a0fce",
    "execution_start": 1658223223433,
    "execution_millis": 484,
    "deepnote_cell_type": "code",
    "deepnote_cell_height": 448
   },
   "source": "# read the data using pandas dataframe\nfacebook = pd.read_csv('Facebook_Ads_2.csv', encoding='ISO-8859-1')\nfacebook.head(5)",
   "execution_count": 2,
   "outputs": [
    {
     "output_type": "execute_result",
     "execution_count": 2,
     "data": {
      "application/vnd.deepnote.dataframe.v3+json": {
       "column_count": 6,
       "row_count": 5,
       "columns": [
        {
         "name": "Names",
         "dtype": "object",
         "stats": {
          "unique_count": 5,
          "nan_count": 0,
          "categories": [
           {
            "name": "Martina Avila",
            "count": 1
           },
           {
            "name": "Harlan Barnes",
            "count": 1
           },
           {
            "name": "3 others",
            "count": 3
           }
          ]
         }
        },
        {
         "name": "emails",
         "dtype": "object",
         "stats": {
          "unique_count": 5,
          "nan_count": 0,
          "categories": [
           {
            "name": "cubilia.Curae.Phasellus@quisaccumsanconvallis.edu",
            "count": 1
           },
           {
            "name": "eu.dolor@diam.co.uk",
            "count": 1
           },
           {
            "name": "3 others",
            "count": 3
           }
          ]
         }
        },
        {
         "name": "Country",
         "dtype": "object",
         "stats": {
          "unique_count": 5,
          "nan_count": 0,
          "categories": [
           {
            "name": "Bulgaria",
            "count": 1
           },
           {
            "name": "Belize",
            "count": 1
           },
           {
            "name": "3 others",
            "count": 3
           }
          ]
         }
        },
        {
         "name": "Time Spent on Site",
         "dtype": "float64",
         "stats": {
          "unique_count": 5,
          "nan_count": 0,
          "min": "20.9459779",
          "max": "54.03932483",
          "histogram": [
           {
            "bin_start": 20.9459779,
            "bin_end": 24.255312593,
            "count": 1
           },
           {
            "bin_start": 24.255312593,
            "bin_end": 27.564647285999996,
            "count": 1
           },
           {
            "bin_start": 27.564647285999996,
            "bin_end": 30.873981978999996,
            "count": 0
           },
           {
            "bin_start": 30.873981978999996,
            "bin_end": 34.183316672,
            "count": 1
           },
           {
            "bin_start": 34.183316672,
            "bin_end": 37.492651365,
            "count": 1
           },
           {
            "bin_start": 37.492651365,
            "bin_end": 40.801986058,
            "count": 0
           },
           {
            "bin_start": 40.801986058,
            "bin_end": 44.111320750999994,
            "count": 0
           },
           {
            "bin_start": 44.111320750999994,
            "bin_end": 47.42065544399999,
            "count": 0
           },
           {
            "bin_start": 47.42065544399999,
            "bin_end": 50.729990136999994,
            "count": 0
           },
           {
            "bin_start": 50.729990136999994,
            "bin_end": 54.03932483,
            "count": 1
           }
          ]
         }
        },
        {
         "name": "Salary",
         "dtype": "float64",
         "stats": {
          "unique_count": 5,
          "nan_count": 0,
          "min": "37143.35536",
          "max": "79049.07674",
          "histogram": [
           {
            "bin_start": 37143.35536,
            "bin_end": 41333.927498000005,
            "count": 3
           },
           {
            "bin_start": 41333.927498000005,
            "bin_end": 45524.499636,
            "count": 0
           },
           {
            "bin_start": 45524.499636,
            "bin_end": 49715.071774000004,
            "count": 0
           },
           {
            "bin_start": 49715.071774000004,
            "bin_end": 53905.643912,
            "count": 0
           },
           {
            "bin_start": 53905.643912,
            "bin_end": 58096.21605,
            "count": 1
           },
           {
            "bin_start": 58096.21605,
            "bin_end": 62286.788188000006,
            "count": 0
           },
           {
            "bin_start": 62286.788188000006,
            "bin_end": 66477.36032600001,
            "count": 0
           },
           {
            "bin_start": 66477.36032600001,
            "bin_end": 70667.93246400001,
            "count": 0
           },
           {
            "bin_start": 70667.93246400001,
            "bin_end": 74858.504602,
            "count": 0
           },
           {
            "bin_start": 74858.504602,
            "bin_end": 79049.07674,
            "count": 1
           }
          ]
         }
        },
        {
         "name": "Clicked",
         "dtype": "int64",
         "stats": {
          "unique_count": 2,
          "nan_count": 0,
          "min": "0",
          "max": "1",
          "histogram": [
           {
            "bin_start": 0,
            "bin_end": 0.1,
            "count": 3
           },
           {
            "bin_start": 0.1,
            "bin_end": 0.2,
            "count": 0
           },
           {
            "bin_start": 0.2,
            "bin_end": 0.30000000000000004,
            "count": 0
           },
           {
            "bin_start": 0.30000000000000004,
            "bin_end": 0.4,
            "count": 0
           },
           {
            "bin_start": 0.4,
            "bin_end": 0.5,
            "count": 0
           },
           {
            "bin_start": 0.5,
            "bin_end": 0.6000000000000001,
            "count": 0
           },
           {
            "bin_start": 0.6000000000000001,
            "bin_end": 0.7000000000000001,
            "count": 0
           },
           {
            "bin_start": 0.7000000000000001,
            "bin_end": 0.8,
            "count": 0
           },
           {
            "bin_start": 0.8,
            "bin_end": 0.9,
            "count": 0
           },
           {
            "bin_start": 0.9,
            "bin_end": 1,
            "count": 2
           }
          ]
         }
        },
        {
         "name": "_deepnote_index_column",
         "dtype": "int64"
        }
       ],
       "rows": [
        {
         "Names": "Martina Avila",
         "emails": "cubilia.Curae.Phasellus@quisaccumsanconvallis.edu",
         "Country": "Bulgaria",
         "Time Spent on Site": 25.64964796,
         "Salary": 55330.06006,
         "Clicked": 0,
         "_deepnote_index_column": 0
        },
        {
         "Names": "Harlan Barnes",
         "emails": "eu.dolor@diam.co.uk",
         "Country": "Belize",
         "Time Spent on Site": 32.4561067,
         "Salary": 79049.07674,
         "Clicked": 1,
         "_deepnote_index_column": 1
        },
        {
         "Names": "Naomi Rodriquez",
         "emails": "vulputate.mauris.sagittis@ametconsectetueradipiscing.co.uk",
         "Country": "Algeria",
         "Time Spent on Site": 20.9459779,
         "Salary": 41098.60826,
         "Clicked": 0,
         "_deepnote_index_column": 2
        },
        {
         "Names": "Jade Cunningham",
         "emails": "malesuada@dignissim.com",
         "Country": "Cook Islands",
         "Time Spent on Site": 54.03932483,
         "Salary": 37143.35536,
         "Clicked": 1,
         "_deepnote_index_column": 3
        },
        {
         "Names": "Cedric Leach",
         "emails": "felis.ullamcorper.viverra@egetmollislectus.net",
         "Country": "Brazil",
         "Time Spent on Site": 34.24972885,
         "Salary": 37355.11276,
         "Clicked": 0,
         "_deepnote_index_column": 4
        }
       ]
      },
      "text/plain": "             Names                                             emails  \\\n0    Martina Avila  cubilia.Curae.Phasellus@quisaccumsanconvallis.edu   \n1    Harlan Barnes                                eu.dolor@diam.co.uk   \n2  Naomi Rodriquez  vulputate.mauris.sagittis@ametconsectetueradip...   \n3  Jade Cunningham                            malesuada@dignissim.com   \n4     Cedric Leach     felis.ullamcorper.viverra@egetmollislectus.net   \n\n        Country  Time Spent on Site       Salary  Clicked  \n0      Bulgaria           25.649648  55330.06006        0  \n1        Belize           32.456107  79049.07674        1  \n2       Algeria           20.945978  41098.60826        0  \n3  Cook Islands           54.039325  37143.35536        1  \n4        Brazil           34.249729  37355.11276        0  ",
      "text/html": "<div>\n<style scoped>\n    .dataframe tbody tr th:only-of-type {\n        vertical-align: middle;\n    }\n\n    .dataframe tbody tr th {\n        vertical-align: top;\n    }\n\n    .dataframe thead th {\n        text-align: right;\n    }\n</style>\n<table border=\"1\" class=\"dataframe\">\n  <thead>\n    <tr style=\"text-align: right;\">\n      <th></th>\n      <th>Names</th>\n      <th>emails</th>\n      <th>Country</th>\n      <th>Time Spent on Site</th>\n      <th>Salary</th>\n      <th>Clicked</th>\n    </tr>\n  </thead>\n  <tbody>\n    <tr>\n      <th>0</th>\n      <td>Martina Avila</td>\n      <td>cubilia.Curae.Phasellus@quisaccumsanconvallis.edu</td>\n      <td>Bulgaria</td>\n      <td>25.649648</td>\n      <td>55330.06006</td>\n      <td>0</td>\n    </tr>\n    <tr>\n      <th>1</th>\n      <td>Harlan Barnes</td>\n      <td>eu.dolor@diam.co.uk</td>\n      <td>Belize</td>\n      <td>32.456107</td>\n      <td>79049.07674</td>\n      <td>1</td>\n    </tr>\n    <tr>\n      <th>2</th>\n      <td>Naomi Rodriquez</td>\n      <td>vulputate.mauris.sagittis@ametconsectetueradip...</td>\n      <td>Algeria</td>\n      <td>20.945978</td>\n      <td>41098.60826</td>\n      <td>0</td>\n    </tr>\n    <tr>\n      <th>3</th>\n      <td>Jade Cunningham</td>\n      <td>malesuada@dignissim.com</td>\n      <td>Cook Islands</td>\n      <td>54.039325</td>\n      <td>37143.35536</td>\n      <td>1</td>\n    </tr>\n    <tr>\n      <th>4</th>\n      <td>Cedric Leach</td>\n      <td>felis.ullamcorper.viverra@egetmollislectus.net</td>\n      <td>Brazil</td>\n      <td>34.249729</td>\n      <td>37355.11276</td>\n      <td>0</td>\n    </tr>\n  </tbody>\n</table>\n</div>"
     },
     "metadata": {}
    }
   ]
  },
  {
   "cell_type": "code",
   "metadata": {
    "cell_id": "00008-73a1e9ce-df4b-44be-b459-7c62d4fa6049",
    "deepnote_to_be_reexecuted": false,
    "source_hash": "7a32a2eb",
    "execution_start": 1658223223503,
    "execution_millis": 3,
    "deepnote_cell_type": "code",
    "deepnote_cell_height": 261,
    "deepnote_output_heights": [
     177
    ]
   },
   "source": "# important funtions\ndef datasetShape(df):\n    rows, cols = df.shape\n    print(\"The dataframe has\",rows,\"rows and\",cols,\"columns.\")\n    \n# select numerical and categorical features\ndef divideFeatures(df):\n    numerical_features = df.select_dtypes(include=[np.number]).drop('Clicked', axis=1)\n    categorical_features = df.select_dtypes(include=[np.object])\n    return numerical_features, categorical_features\n",
   "execution_count": 3,
   "outputs": []
  },
  {
   "cell_type": "code",
   "metadata": {
    "cell_id": "6a471e2b5d16441e94410aca758bdc9e",
    "tags": [],
    "deepnote_to_be_reexecuted": false,
    "source_hash": "ef9ed1d6",
    "execution_start": 1658223223516,
    "execution_millis": 408,
    "deepnote_cell_type": "code",
    "deepnote_cell_height": 258.375
   },
   "source": "# check dataset shape\ndatasetShape(facebook)\n\n# check for duplicates\nif(len(facebook) == len(facebook['emails'].unique())):\n    print(\"No duplicates found!!\")\nelse:\n    print(\"Duplicates occuring\")",
   "execution_count": 4,
   "outputs": [
    {
     "name": "stdout",
     "text": "The dataframe has 499 rows and 6 columns.\nNo duplicates found!!\n",
     "output_type": "stream"
    }
   ]
  },
  {
   "cell_type": "code",
   "metadata": {
    "cell_id": "00009-6cdf5329-5a65-4444-9324-8156e8b64942",
    "deepnote_to_be_reexecuted": false,
    "source_hash": "f6945572",
    "execution_start": 1658223223529,
    "execution_millis": 397,
    "deepnote_cell_type": "code",
    "deepnote_cell_height": 372.4375,
    "deepnote_output_heights": [
     177
    ]
   },
   "source": "facebook.info()\n",
   "execution_count": 5,
   "outputs": [
    {
     "name": "stdout",
     "text": "<class 'pandas.core.frame.DataFrame'>\nRangeIndex: 499 entries, 0 to 498\nData columns (total 6 columns):\n #   Column              Non-Null Count  Dtype  \n---  ------              --------------  -----  \n 0   Names               499 non-null    object \n 1   emails              499 non-null    object \n 2   Country             499 non-null    object \n 3   Time Spent on Site  499 non-null    float64\n 4   Salary              499 non-null    float64\n 5   Clicked             499 non-null    int64  \ndtypes: float64(2), int64(1), object(3)\nmemory usage: 23.5+ KB\n",
     "output_type": "stream"
    }
   ]
  },
  {
   "cell_type": "code",
   "metadata": {
    "cell_id": "00010-6e0536f6-4049-4165-8975-337ad586eb67",
    "deepnote_to_be_reexecuted": false,
    "source_hash": "515b3926",
    "execution_start": 1658223223574,
    "execution_millis": 356,
    "deepnote_cell_type": "code",
    "deepnote_cell_height": 518
   },
   "source": "facebook.describe()",
   "execution_count": 6,
   "outputs": [
    {
     "output_type": "execute_result",
     "execution_count": 6,
     "data": {
      "application/vnd.deepnote.dataframe.v3+json": {
       "column_count": 3,
       "row_count": 8,
       "columns": [
        {
         "name": "Time Spent on Site",
         "dtype": "float64",
         "stats": {
          "unique_count": 8,
          "nan_count": 0,
          "min": "5.0",
          "max": "499.0",
          "histogram": [
           {
            "bin_start": 5,
            "bin_end": 54.4,
            "count": 6
           },
           {
            "bin_start": 54.4,
            "bin_end": 103.8,
            "count": 1
           },
           {
            "bin_start": 103.8,
            "bin_end": 153.2,
            "count": 0
           },
           {
            "bin_start": 153.2,
            "bin_end": 202.6,
            "count": 0
           },
           {
            "bin_start": 202.6,
            "bin_end": 252,
            "count": 0
           },
           {
            "bin_start": 252,
            "bin_end": 301.4,
            "count": 0
           },
           {
            "bin_start": 301.4,
            "bin_end": 350.8,
            "count": 0
           },
           {
            "bin_start": 350.8,
            "bin_end": 400.2,
            "count": 0
           },
           {
            "bin_start": 400.2,
            "bin_end": 449.59999999999997,
            "count": 0
           },
           {
            "bin_start": 449.59999999999997,
            "bin_end": 499,
            "count": 1
           }
          ]
         }
        },
        {
         "name": "Salary",
         "dtype": "float64",
         "stats": {
          "unique_count": 8,
          "nan_count": 0,
          "min": "20.0",
          "max": "100000.0",
          "histogram": [
           {
            "bin_start": 20,
            "bin_end": 10018,
            "count": 2
           },
           {
            "bin_start": 10018,
            "bin_end": 20016,
            "count": 1
           },
           {
            "bin_start": 20016,
            "bin_end": 30014,
            "count": 0
           },
           {
            "bin_start": 30014,
            "bin_end": 40012,
            "count": 1
           },
           {
            "bin_start": 40012,
            "bin_end": 50010,
            "count": 0
           },
           {
            "bin_start": 50010,
            "bin_end": 60008,
            "count": 2
           },
           {
            "bin_start": 60008,
            "bin_end": 70006,
            "count": 1
           },
           {
            "bin_start": 70006,
            "bin_end": 80004,
            "count": 0
           },
           {
            "bin_start": 80004,
            "bin_end": 90002,
            "count": 0
           },
           {
            "bin_start": 90002,
            "bin_end": 100000,
            "count": 1
           }
          ]
         }
        },
        {
         "name": "Clicked",
         "dtype": "float64",
         "stats": {
          "unique_count": 5,
          "nan_count": 0,
          "min": "0.0",
          "max": "499.0",
          "histogram": [
           {
            "bin_start": 0,
            "bin_end": 49.9,
            "count": 7
           },
           {
            "bin_start": 49.9,
            "bin_end": 99.8,
            "count": 0
           },
           {
            "bin_start": 99.8,
            "bin_end": 149.7,
            "count": 0
           },
           {
            "bin_start": 149.7,
            "bin_end": 199.6,
            "count": 0
           },
           {
            "bin_start": 199.6,
            "bin_end": 249.5,
            "count": 0
           },
           {
            "bin_start": 249.5,
            "bin_end": 299.4,
            "count": 0
           },
           {
            "bin_start": 299.4,
            "bin_end": 349.3,
            "count": 0
           },
           {
            "bin_start": 349.3,
            "bin_end": 399.2,
            "count": 0
           },
           {
            "bin_start": 399.2,
            "bin_end": 449.09999999999997,
            "count": 0
           },
           {
            "bin_start": 449.09999999999997,
            "bin_end": 499,
            "count": 1
           }
          ]
         }
        },
        {
         "name": "_deepnote_index_column",
         "dtype": "object"
        }
       ],
       "rows": [
        {
         "Time Spent on Site": 499,
         "Salary": 499,
         "Clicked": 499,
         "_deepnote_index_column": "count"
        },
        {
         "Time Spent on Site": 32.920178330208415,
         "Salary": 52896.99246867536,
         "Clicked": 0.501002004008016,
         "_deepnote_index_column": "mean"
        },
        {
         "Time Spent on Site": 9.103454529280144,
         "Salary": 18989.183149908964,
         "Clicked": 0.5005007512521914,
         "_deepnote_index_column": "std"
        },
        {
         "Time Spent on Site": 5,
         "Salary": 20,
         "Clicked": 0,
         "_deepnote_index_column": "min"
        },
        {
         "Time Spent on Site": 26.425043770000002,
         "Salary": 38888.11726,
         "Clicked": 0,
         "_deepnote_index_column": "25%"
        },
        {
         "Time Spent on Site": 33.19606651,
         "Salary": 52840.91311,
         "Clicked": 1,
         "_deepnote_index_column": "50%"
        },
        {
         "Time Spent on Site": 39.11499454,
         "Salary": 65837.28818999999,
         "Clicked": 1,
         "_deepnote_index_column": "75%"
        },
        {
         "Time Spent on Site": 60,
         "Salary": 100000,
         "Clicked": 1,
         "_deepnote_index_column": "max"
        }
       ]
      },
      "text/plain": "       Time Spent on Site         Salary     Clicked\ncount          499.000000     499.000000  499.000000\nmean            32.920178   52896.992469    0.501002\nstd              9.103455   18989.183150    0.500501\nmin              5.000000      20.000000    0.000000\n25%             26.425044   38888.117260    0.000000\n50%             33.196067   52840.913110    1.000000\n75%             39.114995   65837.288190    1.000000\nmax             60.000000  100000.000000    1.000000",
      "text/html": "<div>\n<style scoped>\n    .dataframe tbody tr th:only-of-type {\n        vertical-align: middle;\n    }\n\n    .dataframe tbody tr th {\n        vertical-align: top;\n    }\n\n    .dataframe thead th {\n        text-align: right;\n    }\n</style>\n<table border=\"1\" class=\"dataframe\">\n  <thead>\n    <tr style=\"text-align: right;\">\n      <th></th>\n      <th>Time Spent on Site</th>\n      <th>Salary</th>\n      <th>Clicked</th>\n    </tr>\n  </thead>\n  <tbody>\n    <tr>\n      <th>count</th>\n      <td>499.000000</td>\n      <td>499.000000</td>\n      <td>499.000000</td>\n    </tr>\n    <tr>\n      <th>mean</th>\n      <td>32.920178</td>\n      <td>52896.992469</td>\n      <td>0.501002</td>\n    </tr>\n    <tr>\n      <th>std</th>\n      <td>9.103455</td>\n      <td>18989.183150</td>\n      <td>0.500501</td>\n    </tr>\n    <tr>\n      <th>min</th>\n      <td>5.000000</td>\n      <td>20.000000</td>\n      <td>0.000000</td>\n    </tr>\n    <tr>\n      <th>25%</th>\n      <td>26.425044</td>\n      <td>38888.117260</td>\n      <td>0.000000</td>\n    </tr>\n    <tr>\n      <th>50%</th>\n      <td>33.196067</td>\n      <td>52840.913110</td>\n      <td>1.000000</td>\n    </tr>\n    <tr>\n      <th>75%</th>\n      <td>39.114995</td>\n      <td>65837.288190</td>\n      <td>1.000000</td>\n    </tr>\n    <tr>\n      <th>max</th>\n      <td>60.000000</td>\n      <td>100000.000000</td>\n      <td>1.000000</td>\n    </tr>\n  </tbody>\n</table>\n</div>"
     },
     "metadata": {}
    }
   ]
  },
  {
   "cell_type": "markdown",
   "source": "# Step 2: EDA",
   "metadata": {
    "cell_id": "00011-7eaf39d1-b3bb-4a9b-b69c-a3cff6364e93",
    "deepnote_cell_type": "markdown",
    "deepnote_cell_height": 82
   }
  },
  {
   "cell_type": "code",
   "metadata": {
    "cell_id": "00012-82f20084-5135-4d95-a808-14814285e3e9",
    "deepnote_to_be_reexecuted": false,
    "source_hash": "40522995",
    "execution_start": 1658223223580,
    "execution_millis": 427,
    "deepnote_cell_type": "code",
    "deepnote_cell_height": 339,
    "deepnote_output_heights": [
     206
    ]
   },
   "source": "# check null values\n\npd.DataFrame(facebook.isnull().sum(), columns=[\"Null Count\"]).style.background_gradient(cmap='Blues')",
   "execution_count": 7,
   "outputs": [
    {
     "output_type": "execute_result",
     "execution_count": 7,
     "data": {
      "text/plain": "<pandas.io.formats.style.Styler at 0x7f056f101280>",
      "text/html": "<style  type=\"text/css\" >\n#T_c5e8a_row0_col0,#T_c5e8a_row1_col0,#T_c5e8a_row2_col0,#T_c5e8a_row3_col0,#T_c5e8a_row4_col0,#T_c5e8a_row5_col0{\n            background-color:  #f7fbff;\n            color:  #000000;\n        }</style><table id=\"T_c5e8a_\" ><thead>    <tr>        <th class=\"blank level0\" ></th>        <th class=\"col_heading level0 col0\" >Null Count</th>    </tr></thead><tbody>\n                <tr>\n                        <th id=\"T_c5e8a_level0_row0\" class=\"row_heading level0 row0\" >Names</th>\n                        <td id=\"T_c5e8a_row0_col0\" class=\"data row0 col0\" >0</td>\n            </tr>\n            <tr>\n                        <th id=\"T_c5e8a_level0_row1\" class=\"row_heading level0 row1\" >emails</th>\n                        <td id=\"T_c5e8a_row1_col0\" class=\"data row1 col0\" >0</td>\n            </tr>\n            <tr>\n                        <th id=\"T_c5e8a_level0_row2\" class=\"row_heading level0 row2\" >Country</th>\n                        <td id=\"T_c5e8a_row2_col0\" class=\"data row2 col0\" >0</td>\n            </tr>\n            <tr>\n                        <th id=\"T_c5e8a_level0_row3\" class=\"row_heading level0 row3\" >Time Spent on Site</th>\n                        <td id=\"T_c5e8a_row3_col0\" class=\"data row3 col0\" >0</td>\n            </tr>\n            <tr>\n                        <th id=\"T_c5e8a_level0_row4\" class=\"row_heading level0 row4\" >Salary</th>\n                        <td id=\"T_c5e8a_row4_col0\" class=\"data row4 col0\" >0</td>\n            </tr>\n            <tr>\n                        <th id=\"T_c5e8a_level0_row5\" class=\"row_heading level0 row5\" >Clicked</th>\n                        <td id=\"T_c5e8a_row5_col0\" class=\"data row5 col0\" >0</td>\n            </tr>\n    </tbody></table>"
     },
     "metadata": {}
    }
   ]
  },
  {
   "cell_type": "code",
   "metadata": {
    "cell_id": "00014-6f25055b-3a65-4bd3-9507-3933b889c6d6",
    "deepnote_to_be_reexecuted": false,
    "source_hash": "3564aa3c",
    "execution_start": 1658223224013,
    "execution_millis": 490,
    "deepnote_cell_type": "code",
    "deepnote_cell_height": 488.1875,
    "deepnote_output_heights": [
     21.1875,
     339
    ]
   },
   "source": "sns.heatmap(facebook.isnull())",
   "execution_count": 8,
   "outputs": [
    {
     "output_type": "execute_result",
     "execution_count": 8,
     "data": {
      "text/plain": "<AxesSubplot:>"
     },
     "metadata": {}
    },
    {
     "data": {
      "text/plain": "<Figure size 432x288 with 2 Axes>",
      "image/png": "[encoded data removed]"
     },
     "metadata": {
      "image/png": {
       "width": 379,
       "height": 337
      }
     },
     "output_type": "display_data"
    }
   ]
  },
  {
   "cell_type": "code",
   "metadata": {
    "cell_id": "cf19ec75d1804ce79f1b882d27037baf",
    "tags": [],
    "deepnote_to_be_reexecuted": false,
    "source_hash": "4eca739d",
    "execution_start": 1658223224511,
    "execution_millis": 2,
    "deepnote_cell_type": "code",
    "deepnote_cell_height": 81
   },
   "source": "numerical_features, categorical_features = divideFeatures(facebook)",
   "execution_count": 9,
   "outputs": []
  },
  {
   "cell_type": "code",
   "metadata": {
    "cell_id": "1df5f4e6b566430a839d4242a5fd1609",
    "tags": [],
    "deepnote_to_be_reexecuted": false,
    "source_hash": "2a8ec006",
    "execution_start": 1658223224559,
    "execution_millis": 262,
    "deepnote_cell_type": "code",
    "deepnote_cell_height": 467,
    "deepnote_output_heights": [
     244
    ]
   },
   "source": "# boxplots of numerical features for outlier detection\n\nfig = plt.figure(figsize=(16,30))\nfor i in range(len(numerical_features.columns)):\n    fig.add_subplot(9, 5, i+1)\n    sns.boxplot(y=numerical_features.iloc[:,i])\nplt.tight_layout()\nplt.show()",
   "execution_count": 10,
   "outputs": [
    {
     "data": {
      "text/plain": "<Figure size 1152x2160 with 2 Axes>",
      "image/png": "[encoded data removed]"
     },
     "metadata": {
      "image/png": {
       "width": 445,
       "height": 242
      }
     },
     "output_type": "display_data"
    }
   ]
  },
  {
   "cell_type": "markdown",
   "source": "plot the % of the target variable",
   "metadata": {
    "cell_id": "d98e1e318abd4b5b9ff013ce851d5437",
    "tags": [],
    "deepnote_cell_type": "markdown",
    "deepnote_cell_height": 52.390625
   }
  },
  {
   "cell_type": "code",
   "metadata": {
    "cell_id": "6a0d1c698d11408ca909d3af3b6416a0",
    "tags": [],
    "deepnote_to_be_reexecuted": false,
    "source_hash": "b3d3b756",
    "execution_start": 1658223224903,
    "execution_millis": 126,
    "deepnote_cell_type": "code",
    "deepnote_cell_height": 340,
    "deepnote_output_heights": [
     70,
     70
    ]
   },
   "source": "sns.color_palette(\"Blues\", as_cmap=True)\nGnBu_palette = sns.color_palette(\"GnBu\",10)\nBlues_palette = sns.color_palette(\"Blues\",10)\nsns.palplot(Blues_palette)\nsns.palplot(GnBu_palette)",
   "execution_count": 11,
   "outputs": [
    {
     "data": {
      "text/plain": "<Figure size 720x72 with 1 Axes>",
      "image/png": "[encoded data removed]"
     },
     "metadata": {
      "image/png": {
       "width": 572,
       "height": 68
      }
     },
     "output_type": "display_data"
    },
    {
     "data": {
      "text/plain": "<Figure size 720x72 with 1 Axes>",
      "image/png": "[encoded data removed]"
     },
     "metadata": {
      "image/png": {
       "width": 572,
       "height": 68
      }
     },
     "output_type": "display_data"
    }
   ]
  },
  {
   "cell_type": "code",
   "metadata": {
    "cell_id": "ebd95b2500624fb1b5b55bd6ec49d990",
    "tags": [],
    "deepnote_to_be_reexecuted": false,
    "source_hash": "e494035f",
    "execution_start": 1658223225047,
    "execution_millis": 332,
    "deepnote_cell_type": "code",
    "deepnote_cell_height": 584,
    "deepnote_output_heights": [
     289,
     254
    ]
   },
   "source": "fig, axes = plt.subplots(1,2,figsize=(10,4))\n\nfacebook['Clicked'].value_counts().plot.pie(\n    explode=[0,0.1],autopct='%1.1f%%',ax=axes[0],shadow=True, colors=[Blues_palette[1],Blues_palette[3]]\n)\n\nsns.countplot('Clicked',data=facebook,ax=axes[1], palette=[GnBu_palette[6],GnBu_palette[7]])\naxes[1].patch.set_alpha(0)\n\nfig.text(0.28,0.92,\"Distribution of Outcome percent\", fontweight=\"bold\", fontfamily='serif', fontsize=17)\n\nplt.show()",
   "execution_count": 12,
   "outputs": [
    {
     "data": {
      "text/plain": "<Figure size 720x288 with 2 Axes>",
      "image/png": "[encoded data removed]"
     },
     "metadata": {
      "image/png": {
       "width": 568,
       "height": 287
      }
     },
     "output_type": "display_data"
    }
   ]
  },
  {
   "cell_type": "code",
   "metadata": {
    "cell_id": "00015-b1fe0cbe-d2b8-4283-8bbb-1b064c134c06",
    "deepnote_to_be_reexecuted": false,
    "source_hash": "81974536",
    "execution_start": 1658223225392,
    "execution_millis": 1488,
    "deepnote_cell_type": "code",
    "deepnote_cell_height": 508.1875,
    "deepnote_output_heights": [
     21.1875,
     359
    ]
   },
   "source": "sns.pairplot(facebook, hue = 'Clicked', vars = ['Time Spent on Site', 'Salary'] )",
   "execution_count": 13,
   "outputs": [
    {
     "output_type": "execute_result",
     "execution_count": 13,
     "data": {
      "text/plain": "<seaborn.axisgrid.PairGrid at 0x7f056bfa9cd0>"
     },
     "metadata": {}
    },
    {
     "data": {
      "text/plain": "<Figure size 404x360 with 6 Axes>",
      "image/png": "[encoded data removed]"
     },
     "metadata": {
      "image/png": {
       "width": 404,
       "height": 357
      }
     },
     "output_type": "display_data"
    }
   ]
  },
  {
   "cell_type": "code",
   "metadata": {
    "cell_id": "00016-14a1dbf0-c7e8-41a0-af11-67f17d5c6d20",
    "deepnote_to_be_reexecuted": false,
    "source_hash": "32d3fae4",
    "execution_start": 1658223226924,
    "execution_millis": 143,
    "deepnote_cell_type": "code",
    "deepnote_cell_height": 486.1875,
    "deepnote_output_heights": [
     21.1875,
     319
    ]
   },
   "source": "plt.figure(figsize=(5, 5))\nsns.boxplot(x='Clicked', y='Salary',data=facebook)",
   "execution_count": 14,
   "outputs": [
    {
     "output_type": "execute_result",
     "execution_count": 14,
     "data": {
      "text/plain": "<AxesSubplot:xlabel='Clicked', ylabel='Salary'>"
     },
     "metadata": {}
    },
    {
     "data": {
      "text/plain": "<Figure size 360x360 with 1 Axes>",
      "image/png": "[encoded data removed]"
     },
     "metadata": {
      "image/png": {
       "width": 352,
       "height": 317
      }
     },
     "output_type": "display_data"
    }
   ]
  },
  {
   "cell_type": "code",
   "metadata": {
    "cell_id": "00017-72b49321-b17e-4e8c-99ce-27856b56cdff",
    "deepnote_to_be_reexecuted": false,
    "source_hash": "2365e7fc",
    "execution_start": 1658223227073,
    "execution_millis": 184,
    "deepnote_cell_type": "code",
    "deepnote_cell_height": 486.1875,
    "deepnote_output_heights": [
     21.1875,
     319
    ]
   },
   "source": "plt.figure(figsize=(5, 5))\nsns.boxplot(x='Clicked', y='Time Spent on Site',data=facebook)",
   "execution_count": 15,
   "outputs": [
    {
     "output_type": "execute_result",
     "execution_count": 15,
     "data": {
      "text/plain": "<AxesSubplot:xlabel='Clicked', ylabel='Time Spent on Site'>"
     },
     "metadata": {}
    },
    {
     "data": {
      "text/plain": "<Figure size 360x360 with 1 Axes>",
      "image/png": "[encoded data removed]"
     },
     "metadata": {
      "image/png": {
       "width": 327,
       "height": 317
      }
     },
     "output_type": "display_data"
    }
   ]
  },
  {
   "cell_type": "code",
   "metadata": {
    "cell_id": "118c13a19b6e4828b7f6a260329c9c21",
    "tags": [],
    "deepnote_to_be_reexecuted": false,
    "source_hash": "76286f65",
    "execution_start": 1658223227271,
    "execution_millis": 6,
    "deepnote_cell_type": "code",
    "deepnote_cell_height": 216,
    "deepnote_output_heights": [
     119
    ]
   },
   "source": "facebook[facebook.columns[:8]].corr().style.background_gradient(cmap='Blues')",
   "execution_count": 16,
   "outputs": [
    {
     "output_type": "execute_result",
     "execution_count": 16,
     "data": {
      "text/plain": "<pandas.io.formats.style.Styler at 0x7f056c4ea8e0>",
      "text/html": "<style  type=\"text/css\" >\n#T_c0bd9_row0_col0,#T_c0bd9_row1_col1,#T_c0bd9_row2_col2{\n            background-color:  #08306b;\n            color:  #f1f1f1;\n        }#T_c0bd9_row0_col1,#T_c0bd9_row0_col2,#T_c0bd9_row1_col0{\n            background-color:  #f7fbff;\n            color:  #000000;\n        }#T_c0bd9_row1_col2{\n            background-color:  #f5fafe;\n            color:  #000000;\n        }#T_c0bd9_row2_col0{\n            background-color:  #89bedc;\n            color:  #000000;\n        }#T_c0bd9_row2_col1{\n            background-color:  #85bcdc;\n            color:  #000000;\n        }</style><table id=\"T_c0bd9_\" ><thead>    <tr>        <th class=\"blank level0\" ></th>        <th class=\"col_heading level0 col0\" >Time Spent on Site</th>        <th class=\"col_heading level0 col1\" >Salary</th>        <th class=\"col_heading level0 col2\" >Clicked</th>    </tr></thead><tbody>\n                <tr>\n                        <th id=\"T_c0bd9_level0_row0\" class=\"row_heading level0 row0\" >Time Spent on Site</th>\n                        <td id=\"T_c0bd9_row0_col0\" class=\"data row0 col0\" >1.000000</td>\n                        <td id=\"T_c0bd9_row0_col1\" class=\"data row0 col1\" >0.388330</td>\n                        <td id=\"T_c0bd9_row0_col2\" class=\"data row0 col2\" >0.650781</td>\n            </tr>\n            <tr>\n                        <th id=\"T_c0bd9_level0_row1\" class=\"row_heading level0 row1\" >Salary</th>\n                        <td id=\"T_c0bd9_row1_col0\" class=\"data row1 col0\" >0.388330</td>\n                        <td id=\"T_c0bd9_row1_col1\" class=\"data row1 col1\" >1.000000</td>\n                        <td id=\"T_c0bd9_row1_col2\" class=\"data row1 col2\" >0.654654</td>\n            </tr>\n            <tr>\n                        <th id=\"T_c0bd9_level0_row2\" class=\"row_heading level0 row2\" >Clicked</th>\n                        <td id=\"T_c0bd9_row2_col0\" class=\"data row2 col0\" >0.650781</td>\n                        <td id=\"T_c0bd9_row2_col1\" class=\"data row2 col1\" >0.654654</td>\n                        <td id=\"T_c0bd9_row2_col2\" class=\"data row2 col2\" >1.000000</td>\n            </tr>\n    </tbody></table>"
     },
     "metadata": {}
    }
   ]
  },
  {
   "cell_type": "markdown",
   "source": "# Step 3: Data Cleaning",
   "metadata": {
    "cell_id": "00020-ea6cd86f-9402-4d14-a3ce-662a65eb9145",
    "deepnote_cell_type": "markdown",
    "deepnote_cell_height": 82
   }
  },
  {
   "cell_type": "code",
   "metadata": {
    "cell_id": "00021-922254ec-ae87-4507-af4a-c1c949769df9",
    "deepnote_to_be_reexecuted": false,
    "source_hash": "308ec027",
    "execution_start": 1658223227279,
    "execution_millis": 10,
    "deepnote_cell_type": "code",
    "deepnote_cell_height": 184.1875,
    "deepnote_output_heights": [
     382.1875
    ]
   },
   "source": "# drop the Serial No.\nfacebook.drop(['Names','emails','Country'], axis=1, inplace=True)\n\n\ndatasetShape(facebook)",
   "execution_count": 17,
   "outputs": [
    {
     "name": "stdout",
     "text": "The dataframe has 499 rows and 3 columns.\n",
     "output_type": "stream"
    }
   ]
  },
  {
   "cell_type": "markdown",
   "source": "# Step 4: Data Preparation",
   "metadata": {
    "cell_id": "3ac071b1328e4df2bb80d69b5b8164ce",
    "tags": [],
    "deepnote_cell_type": "markdown",
    "deepnote_cell_height": 82
   }
  },
  {
   "cell_type": "code",
   "metadata": {
    "cell_id": "00024-9dd0d250-17e2-4035-ab37-ae19a8e26e16",
    "deepnote_to_be_reexecuted": false,
    "source_hash": "b3e9cb95",
    "execution_start": 1658223227288,
    "execution_millis": 4,
    "deepnote_cell_type": "code",
    "deepnote_cell_height": 99
   },
   "source": "# No data engineering is required!!!\n",
   "execution_count": 18,
   "outputs": []
  },
  {
   "cell_type": "markdown",
   "source": "# Step 5: Data Modeling",
   "metadata": {
    "cell_id": "7ed87f2263d346948504fb11e0aa30e0",
    "tags": [],
    "deepnote_cell_type": "markdown",
    "deepnote_cell_height": 82
   }
  },
  {
   "cell_type": "code",
   "metadata": {
    "cell_id": "00025-5b84084d-4305-4913-9efe-85b2c2905978",
    "deepnote_to_be_reexecuted": false,
    "source_hash": "dc762f00",
    "execution_start": 1658223227294,
    "execution_millis": 4,
    "deepnote_cell_type": "code",
    "deepnote_cell_height": 99
   },
   "source": "# shuffle samples\ndf_shuffle = facebook.sample(frac=1, random_state=seed).reset_index(drop=True)",
   "execution_count": 19,
   "outputs": []
  },
  {
   "cell_type": "code",
   "metadata": {
    "cell_id": "cb114d7b64dd4b2b904862f17ccafcf4",
    "tags": [],
    "deepnote_to_be_reexecuted": false,
    "source_hash": "3b511124",
    "execution_start": 1658223227307,
    "execution_millis": 4,
    "deepnote_cell_type": "code",
    "deepnote_cell_height": 240.375
   },
   "source": "df_y = df_shuffle.pop('Clicked')\ndf_X = df_shuffle\n\n# split into train dev and test\nX_train, X_test, y_train, y_test = skms.train_test_split(df_X, df_y, train_size=0.7, random_state=seed)\nprint(f\"Train set has {X_train.shape[0]} records out of {len(df_shuffle)} which is {round(X_train.shape[0]/len(df_shuffle)*100)}%\")\nprint(f\"Test set has {X_test.shape[0]} records out of {len(df_shuffle)} which is {round(X_test.shape[0]/len(df_shuffle)*100)}%\")",
   "execution_count": 20,
   "outputs": [
    {
     "name": "stdout",
     "text": "Train set has 349 records out of 499 which is 70%\nTest set has 150 records out of 499 which is 30%\n",
     "output_type": "stream"
    }
   ]
  },
  {
   "cell_type": "markdown",
   "source": "Feature Scaling",
   "metadata": {
    "cell_id": "d1f19e3c92fd4f31baa0d0ffcd3676d2",
    "tags": [],
    "deepnote_cell_type": "markdown",
    "deepnote_cell_height": 52.390625
   }
  },
  {
   "cell_type": "code",
   "metadata": {
    "cell_id": "16519e2be1bd4db28f113c0dbee6c9bd",
    "tags": [],
    "deepnote_to_be_reexecuted": false,
    "source_hash": "74eacc6b",
    "execution_start": 1658223227314,
    "execution_millis": 55,
    "deepnote_cell_type": "code",
    "deepnote_cell_height": 698
   },
   "source": "scaler = skp.StandardScaler()\n\n# apply scaling to all numerical variables except dummy variables as they are already between 0 and 1\nX_train[numerical_features.columns] = scaler.fit_transform(X_train[numerical_features.columns])\n\n# scale test data with transform()\nX_test[numerical_features.columns] = scaler.transform(X_test[numerical_features.columns])\n\n\n# view sample data\nX_train.describe()",
   "execution_count": 21,
   "outputs": [
    {
     "output_type": "execute_result",
     "execution_count": 21,
     "data": {
      "application/vnd.deepnote.dataframe.v3+json": {
       "column_count": 2,
       "row_count": 8,
       "columns": [
        {
         "name": "Time Spent on Site",
         "dtype": "float64",
         "stats": {
          "unique_count": 8,
          "nan_count": 0,
          "min": "-2.9484976606764093",
          "max": "349.0",
          "histogram": [
           {
            "bin_start": -2.9484976606764093,
            "bin_end": 32.24635210539123,
            "count": 7
           },
           {
            "bin_start": 32.24635210539123,
            "bin_end": 67.44120187145887,
            "count": 0
           },
           {
            "bin_start": 67.44120187145887,
            "bin_end": 102.6360516375265,
            "count": 0
           },
           {
            "bin_start": 102.6360516375265,
            "bin_end": 137.83090140359417,
            "count": 0
           },
           {
            "bin_start": 137.83090140359417,
            "bin_end": 173.02575116966182,
            "count": 0
           },
           {
            "bin_start": 173.02575116966182,
            "bin_end": 208.2206009357294,
            "count": 0
           },
           {
            "bin_start": 208.2206009357294,
            "bin_end": 243.41545070179706,
            "count": 0
           },
           {
            "bin_start": 243.41545070179706,
            "bin_end": 278.6103004678647,
            "count": 0
           },
           {
            "bin_start": 278.6103004678647,
            "bin_end": 313.80515023393235,
            "count": 0
           },
           {
            "bin_start": 313.80515023393235,
            "bin_end": 349,
            "count": 1
           }
          ]
         }
        },
        {
         "name": "Salary",
         "dtype": "float64",
         "stats": {
          "unique_count": 8,
          "nan_count": 0,
          "min": "-2.5620692193098624",
          "max": "349.0",
          "histogram": [
           {
            "bin_start": -2.5620692193098624,
            "bin_end": 32.594137702621126,
            "count": 7
           },
           {
            "bin_start": 32.594137702621126,
            "bin_end": 67.75034462455211,
            "count": 0
           },
           {
            "bin_start": 67.75034462455211,
            "bin_end": 102.9065515464831,
            "count": 0
           },
           {
            "bin_start": 102.9065515464831,
            "bin_end": 138.06275846841407,
            "count": 0
           },
           {
            "bin_start": 138.06275846841407,
            "bin_end": 173.21896539034506,
            "count": 0
           },
           {
            "bin_start": 173.21896539034506,
            "bin_end": 208.37517231227605,
            "count": 0
           },
           {
            "bin_start": 208.37517231227605,
            "bin_end": 243.53137923420704,
            "count": 0
           },
           {
            "bin_start": 243.53137923420704,
            "bin_end": 278.687586156138,
            "count": 0
           },
           {
            "bin_start": 278.687586156138,
            "bin_end": 313.84379307806904,
            "count": 0
           },
           {
            "bin_start": 313.84379307806904,
            "bin_end": 349,
            "count": 1
           }
          ]
         }
        },
        {
         "name": "_deepnote_index_column",
         "dtype": "object"
        }
       ],
       "rows": [
        {
         "Time Spent on Site": 349,
         "Salary": 349,
         "_deepnote_index_column": "count"
        },
        {
         "Time Spent on Site": -1.7814466870776152e-17,
         "Salary": -4.580862909628153e-16,
         "_deepnote_index_column": "mean"
        },
        {
         "Time Spent on Site": 1.001435750918845,
         "Salary": 1.0014357509188447,
         "_deepnote_index_column": "std"
        },
        {
         "Time Spent on Site": -2.9484976606764093,
         "Salary": -2.5620692193098624,
         "_deepnote_index_column": "min"
        },
        {
         "Time Spent on Site": -0.7266207930183264,
         "Salary": -0.7439129533605516,
         "_deepnote_index_column": "25%"
        },
        {
         "Time Spent on Site": 0.02231168027213256,
         "Salary": -0.02938479581722896,
         "_deepnote_index_column": "50%"
        },
        {
         "Time Spent on Site": 0.6885525193010498,
         "Salary": 0.7320860117141128,
         "_deepnote_index_column": "75%"
        },
        {
         "Time Spent on Site": 3.1826784483587716,
         "Salary": 2.3213118334749265,
         "_deepnote_index_column": "max"
        }
       ]
      },
      "text/plain": "       Time Spent on Site        Salary\ncount        3.490000e+02  3.490000e+02\nmean        -1.781447e-17 -4.580863e-16\nstd          1.001436e+00  1.001436e+00\nmin         -2.948498e+00 -2.562069e+00\n25%         -7.266208e-01 -7.439130e-01\n50%          2.231168e-02 -2.938480e-02\n75%          6.885525e-01  7.320860e-01\nmax          3.182678e+00  2.321312e+00",
      "text/html": "<div>\n<style scoped>\n    .dataframe tbody tr th:only-of-type {\n        vertical-align: middle;\n    }\n\n    .dataframe tbody tr th {\n        vertical-align: top;\n    }\n\n    .dataframe thead th {\n        text-align: right;\n    }\n</style>\n<table border=\"1\" class=\"dataframe\">\n  <thead>\n    <tr style=\"text-align: right;\">\n      <th></th>\n      <th>Time Spent on Site</th>\n      <th>Salary</th>\n    </tr>\n  </thead>\n  <tbody>\n    <tr>\n      <th>count</th>\n      <td>3.490000e+02</td>\n      <td>3.490000e+02</td>\n    </tr>\n    <tr>\n      <th>mean</th>\n      <td>-1.781447e-17</td>\n      <td>-4.580863e-16</td>\n    </tr>\n    <tr>\n      <th>std</th>\n      <td>1.001436e+00</td>\n      <td>1.001436e+00</td>\n    </tr>\n    <tr>\n      <th>min</th>\n      <td>-2.948498e+00</td>\n      <td>-2.562069e+00</td>\n    </tr>\n    <tr>\n      <th>25%</th>\n      <td>-7.266208e-01</td>\n      <td>-7.439130e-01</td>\n    </tr>\n    <tr>\n      <th>50%</th>\n      <td>2.231168e-02</td>\n      <td>-2.938480e-02</td>\n    </tr>\n    <tr>\n      <th>75%</th>\n      <td>6.885525e-01</td>\n      <td>7.320860e-01</td>\n    </tr>\n    <tr>\n      <th>max</th>\n      <td>3.182678e+00</td>\n      <td>2.321312e+00</td>\n    </tr>\n  </tbody>\n</table>\n</div>"
     },
     "metadata": {}
    }
   ]
  },
  {
   "cell_type": "code",
   "metadata": {
    "cell_id": "6936ce250c2c41b48210fe17f36671f4",
    "tags": [],
    "deepnote_to_be_reexecuted": false,
    "source_hash": "3c0412c1",
    "execution_start": 1658223227371,
    "execution_millis": 2,
    "deepnote_cell_type": "code",
    "deepnote_cell_height": 333
   },
   "source": "def get_clf_eval(y_test, pred = None, pred_proba = None):\n    confusion = confusion_matrix(y_test, pred)\n    accuacy = accuracy_score(y_test, pred)\n    precision = precision_score(y_test, pred)\n    recall = recall_score(y_test, pred)\n    f1 = f1_score(y_test, pred)\n    roc_auc = roc_auc_score(y_test, pred_proba)\n    \n    print('confusion')\n    print(confusion)\n    print('accuacy : {}'.format(np.around(accuacy,4)))\n    print('precision: {}'.format(np.around(precision,4)))\n    print('recall : {}'.format(np.around(recall,4)))\n    print('F1 : {}'.format(np.around(f1,4)))  \n    print('ROC_AUC : {}'.format(np.around(roc_auc,4)))",
   "execution_count": 22,
   "outputs": []
  },
  {
   "cell_type": "markdown",
   "source": "Logistic Regression Model",
   "metadata": {
    "cell_id": "a1efc47de5524b40b63c56e1fa109bc2",
    "tags": [],
    "deepnote_cell_type": "markdown",
    "deepnote_cell_height": 52.390625
   }
  },
  {
   "cell_type": "code",
   "metadata": {
    "cell_id": "1d2dde56485c448c9cd3c047488163f6",
    "tags": [],
    "deepnote_to_be_reexecuted": false,
    "source_hash": "8720cb92",
    "execution_start": 1658224936144,
    "execution_millis": 27,
    "deepnote_cell_type": "code",
    "deepnote_cell_height": 343.5
   },
   "source": "lg_reg = LogisticRegression()\n\nlg_reg.fit(X_train, y_train)\npred = lg_reg.predict(X_test)\npred_proba = lg_reg.predict_proba(X_test)[:,1]\nget_clf_eval(y_test, pred, pred_proba)",
   "execution_count": 40,
   "outputs": [
    {
     "name": "stdout",
     "text": "confusion\n[[66  6]\n [ 3 75]]\naccuacy : 0.94\nprecision: 0.9259\nrecall : 0.9615\nF1 : 0.9434\nROC_AUC : 0.9749\n",
     "output_type": "stream"
    }
   ]
  },
  {
   "cell_type": "markdown",
   "source": "Classiﬁcation Accuracy = (TP+TN) / (TP + TN + FP + FN) \n\nMisclassiﬁcation rate (Error Rate) = (FP + FN) / (TP + TN + FP + FN) \n\nPrecision = TP/Total TRUE Predictions = TP/ (TP+FP) (When model predicted TRUE class, how often was it right?) \n\nRecall = TP/ Actual TRUE = TP/ (TP+FN) (when the class was actually TRUE, how often did the classiﬁer get it right?)\n\nF1-Score = 2/(1/Recall + 1/Precision) (is a harmonic mean of Precision and Recall, and so it gives a combined idea about these two metrics. It is maximum when Precision is equal to Recall.)",
   "metadata": {
    "cell_id": "67ca80e2d0344aee8769b51adfa7b51e",
    "tags": [],
    "deepnote_cell_type": "markdown",
    "deepnote_cell_height": 265.125
   }
  },
  {
   "cell_type": "markdown",
   "source": "Random Forest Model",
   "metadata": {
    "cell_id": "9be8640216d44a1fa86c90985bba71c6",
    "tags": [],
    "deepnote_cell_type": "markdown",
    "deepnote_cell_height": 52.390625
   }
  },
  {
   "cell_type": "code",
   "metadata": {
    "cell_id": "978ceb2177d04cccaec4e317971016ef",
    "tags": [],
    "deepnote_to_be_reexecuted": false,
    "source_hash": "d4ff9bc0",
    "execution_start": 1658223727896,
    "execution_millis": 0,
    "deepnote_cell_type": "code",
    "deepnote_cell_height": 171
   },
   "source": "rf_clf = RandomForestClassifier()\nparam = {'n_estimators' : [100],\n         'max_depth':[8,9,10],\n         'min_samples_split':[2,5,7],\n         'min_samples_leaf':[6.5,7,7.5]\n        }",
   "execution_count": 26,
   "outputs": []
  },
  {
   "cell_type": "code",
   "metadata": {
    "cell_id": "0c62eec77e934d359cd3cddf3b0f1238",
    "tags": [],
    "deepnote_to_be_reexecuted": false,
    "source_hash": "7cdcd902",
    "execution_start": 1658223820851,
    "execution_millis": 19553,
    "deepnote_cell_type": "code",
    "deepnote_cell_height": 232.296875,
    "deepnote_output_heights": [
     117.296875
    ]
   },
   "source": "grid = GridSearchCV(rf_clf,param_grid = param,scoring = 'accuracy',cv=5)\ngrid.fit(X_train ,y_train)",
   "execution_count": 29,
   "outputs": [
    {
     "output_type": "execute_result",
     "execution_count": 29,
     "data": {
      "text/plain": "GridSearchCV(cv=5, estimator=RandomForestClassifier(),\n             param_grid={'max_depth': [8, 9, 10],\n                         'min_samples_leaf': [6.5, 7, 7.5],\n                         'min_samples_split': [2, 5, 7],\n                         'n_estimators': [100]},\n             scoring='accuracy')",
      "text/html": "<style>#sk-container-id-1 {color: black;background-color: white;}#sk-container-id-1 pre{padding: 0;}#sk-container-id-1 div.sk-toggleable {background-color: white;}#sk-container-id-1 label.sk-toggleable__label {cursor: pointer;display: block;width: 100%;margin-bottom: 0;padding: 0.3em;box-sizing: border-box;text-align: center;}#sk-container-id-1 label.sk-toggleable__label-arrow:before {content: \"▸\";float: left;margin-right: 0.25em;color: #696969;}#sk-container-id-1 label.sk-toggleable__label-arrow:hover:before {color: black;}#sk-container-id-1 div.sk-estimator:hover label.sk-toggleable__label-arrow:before {color: black;}#sk-container-id-1 div.sk-toggleable__content {max-height: 0;max-width: 0;overflow: hidden;text-align: left;background-color: #f0f8ff;}#sk-container-id-1 div.sk-toggleable__content pre {margin: 0.2em;color: black;border-radius: 0.25em;background-color: #f0f8ff;}#sk-container-id-1 input.sk-toggleable__control:checked~div.sk-toggleable__content {max-height: 200px;max-width: 100%;overflow: auto;}#sk-container-id-1 input.sk-toggleable__control:checked~label.sk-toggleable__label-arrow:before {content: \"▾\";}#sk-container-id-1 div.sk-estimator input.sk-toggleable__control:checked~label.sk-toggleable__label {background-color: #d4ebff;}#sk-container-id-1 div.sk-label input.sk-toggleable__control:checked~label.sk-toggleable__label {background-color: #d4ebff;}#sk-container-id-1 input.sk-hidden--visually {border: 0;clip: rect(1px 1px 1px 1px);clip: rect(1px, 1px, 1px, 1px);height: 1px;margin: -1px;overflow: hidden;padding: 0;position: absolute;width: 1px;}#sk-container-id-1 div.sk-estimator {font-family: monospace;background-color: #f0f8ff;border: 1px dotted black;border-radius: 0.25em;box-sizing: border-box;margin-bottom: 0.5em;}#sk-container-id-1 div.sk-estimator:hover {background-color: #d4ebff;}#sk-container-id-1 div.sk-parallel-item::after {content: \"\";width: 100%;border-bottom: 1px solid gray;flex-grow: 1;}#sk-container-id-1 div.sk-label:hover label.sk-toggleable__label {background-color: #d4ebff;}#sk-container-id-1 div.sk-serial::before {content: \"\";position: absolute;border-left: 1px solid gray;box-sizing: border-box;top: 0;bottom: 0;left: 50%;z-index: 0;}#sk-container-id-1 div.sk-serial {display: flex;flex-direction: column;align-items: center;background-color: white;padding-right: 0.2em;padding-left: 0.2em;position: relative;}#sk-container-id-1 div.sk-item {position: relative;z-index: 1;}#sk-container-id-1 div.sk-parallel {display: flex;align-items: stretch;justify-content: center;background-color: white;position: relative;}#sk-container-id-1 div.sk-item::before, #sk-container-id-1 div.sk-parallel-item::before {content: \"\";position: absolute;border-left: 1px solid gray;box-sizing: border-box;top: 0;bottom: 0;left: 50%;z-index: -1;}#sk-container-id-1 div.sk-parallel-item {display: flex;flex-direction: column;z-index: 1;position: relative;background-color: white;}#sk-container-id-1 div.sk-parallel-item:first-child::after {align-self: flex-end;width: 50%;}#sk-container-id-1 div.sk-parallel-item:last-child::after {align-self: flex-start;width: 50%;}#sk-container-id-1 div.sk-parallel-item:only-child::after {width: 0;}#sk-container-id-1 div.sk-dashed-wrapped {border: 1px dashed gray;margin: 0 0.4em 0.5em 0.4em;box-sizing: border-box;padding-bottom: 0.4em;background-color: white;}#sk-container-id-1 div.sk-label label {font-family: monospace;font-weight: bold;display: inline-block;line-height: 1.2em;}#sk-container-id-1 div.sk-label-container {text-align: center;}#sk-container-id-1 div.sk-container {/* jupyter's `normalize.less` sets `[hidden] { display: none; }` but bootstrap.min.css set `[hidden] { display: none !important; }` so we also need the `!important` here to be able to override the default hidden behavior on the sphinx rendered scikit-learn.org. See: https://github.com/scikit-learn/scikit-learn/issues/21755 */display: inline-block !important;position: relative;}#sk-container-id-1 div.sk-text-repr-fallback {display: none;}</style><div id=\"sk-container-id-1\" class=\"sk-top-container\"><div class=\"sk-text-repr-fallback\"><pre>GridSearchCV(cv=5, estimator=RandomForestClassifier(),\n             param_grid={&#x27;max_depth&#x27;: [8, 9, 10],\n                         &#x27;min_samples_leaf&#x27;: [6.5, 7, 7.5],\n                         &#x27;min_samples_split&#x27;: [2, 5, 7],\n                         &#x27;n_estimators&#x27;: [100]},\n             scoring=&#x27;accuracy&#x27;)</pre><b>In a Jupyter environment, please rerun this cell to show the HTML representation or trust the notebook. <br />On GitHub, the HTML representation is unable to render, please try loading this page with nbviewer.org.</b></div><div class=\"sk-container\" hidden><div class=\"sk-item sk-dashed-wrapped\"><div class=\"sk-label-container\"><div class=\"sk-label sk-toggleable\"><input class=\"sk-toggleable__control sk-hidden--visually\" id=\"sk-estimator-id-1\" type=\"checkbox\" ><label for=\"sk-estimator-id-1\" class=\"sk-toggleable__label sk-toggleable__label-arrow\">GridSearchCV</label><div class=\"sk-toggleable__content\"><pre>GridSearchCV(cv=5, estimator=RandomForestClassifier(),\n             param_grid={&#x27;max_depth&#x27;: [8, 9, 10],\n                         &#x27;min_samples_leaf&#x27;: [6.5, 7, 7.5],\n                         &#x27;min_samples_split&#x27;: [2, 5, 7],\n                         &#x27;n_estimators&#x27;: [100]},\n             scoring=&#x27;accuracy&#x27;)</pre></div></div></div><div class=\"sk-parallel\"><div class=\"sk-parallel-item\"><div class=\"sk-item\"><div class=\"sk-label-container\"><div class=\"sk-label sk-toggleable\"><input class=\"sk-toggleable__control sk-hidden--visually\" id=\"sk-estimator-id-2\" type=\"checkbox\" ><label for=\"sk-estimator-id-2\" class=\"sk-toggleable__label sk-toggleable__label-arrow\">estimator: RandomForestClassifier</label><div class=\"sk-toggleable__content\"><pre>RandomForestClassifier()</pre></div></div></div><div class=\"sk-serial\"><div class=\"sk-item\"><div class=\"sk-estimator sk-toggleable\"><input class=\"sk-toggleable__control sk-hidden--visually\" id=\"sk-estimator-id-3\" type=\"checkbox\" ><label for=\"sk-estimator-id-3\" class=\"sk-toggleable__label sk-toggleable__label-arrow\">RandomForestClassifier</label><div class=\"sk-toggleable__content\"><pre>RandomForestClassifier()</pre></div></div></div></div></div></div></div></div></div></div>"
     },
     "metadata": {}
    }
   ]
  },
  {
   "cell_type": "code",
   "metadata": {
    "cell_id": "e933a159e4d1405388b0e0fb2a0ef6ac",
    "tags": [],
    "deepnote_to_be_reexecuted": false,
    "source_hash": "bc2baa2b",
    "execution_start": 1658223878500,
    "execution_millis": 5,
    "deepnote_cell_type": "code",
    "deepnote_cell_height": 175.75,
    "deepnote_output_heights": [
     78.75
    ]
   },
   "source": "grid.best_params_",
   "execution_count": 30,
   "outputs": [
    {
     "output_type": "execute_result",
     "execution_count": 30,
     "data": {
      "text/plain": "{'max_depth': 9,\n 'min_samples_leaf': 7,\n 'min_samples_split': 2,\n 'n_estimators': 100}"
     },
     "metadata": {}
    }
   ]
  },
  {
   "cell_type": "code",
   "metadata": {
    "cell_id": "a6f238a650d64605a1e9dd4207ee380c",
    "tags": [],
    "deepnote_to_be_reexecuted": false,
    "source_hash": "4fc6697",
    "execution_start": 1658223893707,
    "execution_millis": 511,
    "deepnote_cell_type": "code",
    "deepnote_cell_height": 118.1875,
    "deepnote_output_heights": [
     21.1875
    ]
   },
   "source": "grid.best_score_",
   "execution_count": 31,
   "outputs": [
    {
     "output_type": "execute_result",
     "execution_count": 31,
     "data": {
      "text/plain": "0.879751552795031"
     },
     "metadata": {}
    }
   ]
  },
  {
   "cell_type": "code",
   "metadata": {
    "cell_id": "88cadf314ca5473b9b97fd5845f3ea3a",
    "tags": [],
    "deepnote_to_be_reexecuted": false,
    "source_hash": "33f17c09",
    "execution_start": 1658223923044,
    "execution_millis": 55,
    "deepnote_cell_type": "code",
    "deepnote_cell_height": 289.5
   },
   "source": "pred = grid.predict(X_test)\npred_proba = grid.predict_proba(X_test)[:,1]\nget_clf_eval(y_test, pred, pred_proba)",
   "execution_count": 32,
   "outputs": [
    {
     "name": "stdout",
     "text": "confusion\n[[66  6]\n [ 4 74]]\naccuacy : 0.9333\nprecision: 0.925\nrecall : 0.9487\nF1 : 0.9367\nROC_AUC : 0.9671\n",
     "output_type": "stream"
    }
   ]
  },
  {
   "cell_type": "markdown",
   "source": "LightGBM Classification Model",
   "metadata": {
    "cell_id": "da683b07b67e4b348fef40d8e4eb19e3",
    "tags": [],
    "deepnote_cell_type": "markdown",
    "deepnote_cell_height": 52.390625
   }
  },
  {
   "cell_type": "code",
   "metadata": {
    "cell_id": "e3b40f4370bf4823813a2a04dedc58d9",
    "tags": [],
    "deepnote_to_be_reexecuted": false,
    "source_hash": "c3f9c8ba",
    "execution_start": 1658224210868,
    "execution_millis": 0,
    "deepnote_cell_type": "code",
    "deepnote_cell_height": 261
   },
   "source": "model = lgb.LGBMClassifier(\n    n_estimators=400,\n    num_leaves=20,\n    min_data_in_leaf=60,\n    learning_rate=0.01,\n    boosting='gbdt',\n    objective='binary',\n    metric='auc',\n    Is_training_metric=True,\n    n_jobs=-1\n)",
   "execution_count": 36,
   "outputs": []
  },
  {
   "cell_type": "code",
   "metadata": {
    "cell_id": "10978750ca60470fbd4dadd172e11e03",
    "tags": [],
    "deepnote_to_be_reexecuted": false,
    "source_hash": "6982db56",
    "execution_start": 1658224217934,
    "execution_millis": 54,
    "deepnote_cell_type": "code",
    "deepnote_cell_height": 195.71875,
    "deepnote_output_heights": [
     98.71875,
     98.71875
    ]
   },
   "source": "model.fit(X_train,y_train)",
   "execution_count": 37,
   "outputs": [
    {
     "output_type": "execute_result",
     "execution_count": 37,
     "data": {
      "text/plain": "LGBMClassifier(Is_training_metric=True, boosting='gbdt', learning_rate=0.01,\n               metric='auc', min_data_in_leaf=60, n_estimators=400,\n               num_leaves=20, objective='binary')",
      "text/html": "<style>#sk-container-id-3 {color: black;background-color: white;}#sk-container-id-3 pre{padding: 0;}#sk-container-id-3 div.sk-toggleable {background-color: white;}#sk-container-id-3 label.sk-toggleable__label {cursor: pointer;display: block;width: 100%;margin-bottom: 0;padding: 0.3em;box-sizing: border-box;text-align: center;}#sk-container-id-3 label.sk-toggleable__label-arrow:before {content: \"▸\";float: left;margin-right: 0.25em;color: #696969;}#sk-container-id-3 label.sk-toggleable__label-arrow:hover:before {color: black;}#sk-container-id-3 div.sk-estimator:hover label.sk-toggleable__label-arrow:before {color: black;}#sk-container-id-3 div.sk-toggleable__content {max-height: 0;max-width: 0;overflow: hidden;text-align: left;background-color: #f0f8ff;}#sk-container-id-3 div.sk-toggleable__content pre {margin: 0.2em;color: black;border-radius: 0.25em;background-color: #f0f8ff;}#sk-container-id-3 input.sk-toggleable__control:checked~div.sk-toggleable__content {max-height: 200px;max-width: 100%;overflow: auto;}#sk-container-id-3 input.sk-toggleable__control:checked~label.sk-toggleable__label-arrow:before {content: \"▾\";}#sk-container-id-3 div.sk-estimator input.sk-toggleable__control:checked~label.sk-toggleable__label {background-color: #d4ebff;}#sk-container-id-3 div.sk-label input.sk-toggleable__control:checked~label.sk-toggleable__label {background-color: #d4ebff;}#sk-container-id-3 input.sk-hidden--visually {border: 0;clip: rect(1px 1px 1px 1px);clip: rect(1px, 1px, 1px, 1px);height: 1px;margin: -1px;overflow: hidden;padding: 0;position: absolute;width: 1px;}#sk-container-id-3 div.sk-estimator {font-family: monospace;background-color: #f0f8ff;border: 1px dotted black;border-radius: 0.25em;box-sizing: border-box;margin-bottom: 0.5em;}#sk-container-id-3 div.sk-estimator:hover {background-color: #d4ebff;}#sk-container-id-3 div.sk-parallel-item::after {content: \"\";width: 100%;border-bottom: 1px solid gray;flex-grow: 1;}#sk-container-id-3 div.sk-label:hover label.sk-toggleable__label {background-color: #d4ebff;}#sk-container-id-3 div.sk-serial::before {content: \"\";position: absolute;border-left: 1px solid gray;box-sizing: border-box;top: 0;bottom: 0;left: 50%;z-index: 0;}#sk-container-id-3 div.sk-serial {display: flex;flex-direction: column;align-items: center;background-color: white;padding-right: 0.2em;padding-left: 0.2em;position: relative;}#sk-container-id-3 div.sk-item {position: relative;z-index: 1;}#sk-container-id-3 div.sk-parallel {display: flex;align-items: stretch;justify-content: center;background-color: white;position: relative;}#sk-container-id-3 div.sk-item::before, #sk-container-id-3 div.sk-parallel-item::before {content: \"\";position: absolute;border-left: 1px solid gray;box-sizing: border-box;top: 0;bottom: 0;left: 50%;z-index: -1;}#sk-container-id-3 div.sk-parallel-item {display: flex;flex-direction: column;z-index: 1;position: relative;background-color: white;}#sk-container-id-3 div.sk-parallel-item:first-child::after {align-self: flex-end;width: 50%;}#sk-container-id-3 div.sk-parallel-item:last-child::after {align-self: flex-start;width: 50%;}#sk-container-id-3 div.sk-parallel-item:only-child::after {width: 0;}#sk-container-id-3 div.sk-dashed-wrapped {border: 1px dashed gray;margin: 0 0.4em 0.5em 0.4em;box-sizing: border-box;padding-bottom: 0.4em;background-color: white;}#sk-container-id-3 div.sk-label label {font-family: monospace;font-weight: bold;display: inline-block;line-height: 1.2em;}#sk-container-id-3 div.sk-label-container {text-align: center;}#sk-container-id-3 div.sk-container {/* jupyter's `normalize.less` sets `[hidden] { display: none; }` but bootstrap.min.css set `[hidden] { display: none !important; }` so we also need the `!important` here to be able to override the default hidden behavior on the sphinx rendered scikit-learn.org. See: https://github.com/scikit-learn/scikit-learn/issues/21755 */display: inline-block !important;position: relative;}#sk-container-id-3 div.sk-text-repr-fallback {display: none;}</style><div id=\"sk-container-id-3\" class=\"sk-top-container\"><div class=\"sk-text-repr-fallback\"><pre>LGBMClassifier(Is_training_metric=True, boosting=&#x27;gbdt&#x27;, learning_rate=0.01,\n               metric=&#x27;auc&#x27;, min_data_in_leaf=60, n_estimators=400,\n               num_leaves=20, objective=&#x27;binary&#x27;)</pre><b>In a Jupyter environment, please rerun this cell to show the HTML representation or trust the notebook. <br />On GitHub, the HTML representation is unable to render, please try loading this page with nbviewer.org.</b></div><div class=\"sk-container\" hidden><div class=\"sk-item\"><div class=\"sk-estimator sk-toggleable\"><input class=\"sk-toggleable__control sk-hidden--visually\" id=\"sk-estimator-id-5\" type=\"checkbox\" checked><label for=\"sk-estimator-id-5\" class=\"sk-toggleable__label sk-toggleable__label-arrow\">LGBMClassifier</label><div class=\"sk-toggleable__content\"><pre>LGBMClassifier(Is_training_metric=True, boosting=&#x27;gbdt&#x27;, learning_rate=0.01,\n               metric=&#x27;auc&#x27;, min_data_in_leaf=60, n_estimators=400,\n               num_leaves=20, objective=&#x27;binary&#x27;)</pre></div></div></div></div></div>"
     },
     "metadata": {}
    }
   ]
  },
  {
   "cell_type": "code",
   "metadata": {
    "cell_id": "6cc50e67101a4340970bd0e463f5f052",
    "tags": [],
    "deepnote_to_be_reexecuted": false,
    "source_hash": "de1d0dc5",
    "execution_start": 1658224354103,
    "execution_millis": 5,
    "deepnote_cell_type": "code",
    "deepnote_cell_height": 289.5
   },
   "source": "pred = model.predict(X_test)\npred_proba = model.predict_proba(X_test)[:,1]\nget_clf_eval(y_test, pred, pred_proba)",
   "execution_count": 38,
   "outputs": [
    {
     "name": "stdout",
     "text": "confusion\n[[65  7]\n [ 6 72]]\naccuacy : 0.9133\nprecision: 0.9114\nrecall : 0.9231\nF1 : 0.9172\nROC_AUC : 0.963\n",
     "output_type": "stream"
    }
   ]
  },
  {
   "cell_type": "markdown",
   "source": "logistic regression model wins!!\n\nconfusion\n\n[[66  6]\n\n[ 3 75]]\n\naccuacy : 0.94\n\nprecision: 0.9259\n\nrecall : 0.9615\n\nF1 : 0.9434\n\nROC_AUC : 0.9749",
   "metadata": {
    "cell_id": "4134ab23384f43f8aabba6d11c71d5f4",
    "tags": [],
    "deepnote_cell_type": "markdown",
    "deepnote_cell_height": 343.515625
   }
  },
  {
   "cell_type": "markdown",
   "source": "# Step 6: Submission",
   "metadata": {
    "cell_id": "2e3941131a044fba863f5a7cd9ffcc07",
    "tags": [],
    "deepnote_cell_type": "markdown",
    "deepnote_cell_height": 82
   }
  },
  {
   "cell_type": "markdown",
   "source": "Re-run the best model (Logistic Regression)to update the 'pred' variable",
   "metadata": {
    "cell_id": "6fb49c4e8f4348ceb06a18de80c2fa27",
    "tags": [],
    "deepnote_cell_type": "markdown",
    "deepnote_cell_height": 52.390625
   }
  },
  {
   "cell_type": "code",
   "metadata": {
    "cell_id": "71e829482ae746bfbed7f5808ee6bacd",
    "tags": [],
    "deepnote_to_be_reexecuted": false,
    "source_hash": "8d22b18b",
    "execution_start": 1658225031324,
    "execution_millis": 0,
    "deepnote_cell_type": "code",
    "deepnote_cell_height": 81
   },
   "source": "submission = pd.DataFrame(X_test)",
   "execution_count": 41,
   "outputs": []
  },
  {
   "cell_type": "code",
   "metadata": {
    "cell_id": "0e77a665fd124d6f98c71ed930789900",
    "tags": [],
    "deepnote_to_be_reexecuted": false,
    "source_hash": "ccaa35ed",
    "execution_start": 1658225242713,
    "execution_millis": 0,
    "deepnote_cell_type": "code",
    "deepnote_cell_height": 99
   },
   "source": "submission['Outcome'] = y_test\nsubmission['Predict_Outcome'] = pred",
   "execution_count": 42,
   "outputs": []
  },
  {
   "cell_type": "code",
   "metadata": {
    "cell_id": "9ee2dab515e94be9bb82ea7d6f73e584",
    "tags": [],
    "owner_user_id": "89242f75-a866-4d42-b2fa-b756b7b484f9",
    "deepnote_to_be_reexecuted": false,
    "source_hash": "defecc0b",
    "execution_start": 1658225255664,
    "execution_millis": 23,
    "deepnote_cell_type": "code",
    "deepnote_cell_height": 66
   },
   "source": "submission.head()",
   "execution_count": 43,
   "outputs": [
    {
     "output_type": "execute_result",
     "execution_count": 43,
     "data": {
      "application/vnd.deepnote.dataframe.v3+json": {
       "column_count": 4,
       "row_count": 5,
       "columns": [
        {
         "name": "Time Spent on Site",
         "dtype": "float64",
         "stats": {
          "unique_count": 5,
          "nan_count": 0,
          "min": "-1.0982432035766403",
          "max": "1.3294199821613968",
          "histogram": [
           {
            "bin_start": -1.0982432035766403,
            "bin_end": -0.8554768850028366,
            "count": 2
           },
           {
            "bin_start": -0.8554768850028366,
            "bin_end": -0.6127105664290329,
            "count": 0
           },
           {
            "bin_start": -0.6127105664290329,
            "bin_end": -0.36994424785522906,
            "count": 1
           },
           {
            "bin_start": -0.36994424785522906,
            "bin_end": -0.12717792928142535,
            "count": 0
           },
           {
            "bin_start": -0.12717792928142535,
            "bin_end": 0.11558838929237836,
            "count": 0
           },
           {
            "bin_start": 0.11558838929237836,
            "bin_end": 0.3583547078661822,
            "count": 0
           },
           {
            "bin_start": 0.3583547078661822,
            "bin_end": 0.6011210264399858,
            "count": 0
           },
           {
            "bin_start": 0.6011210264399858,
            "bin_end": 0.8438873450137896,
            "count": 1
           },
           {
            "bin_start": 0.8438873450137896,
            "bin_end": 1.0866536635875932,
            "count": 0
           },
           {
            "bin_start": 1.0866536635875932,
            "bin_end": 1.3294199821613968,
            "count": 1
           }
          ]
         }
        },
        {
         "name": "Salary",
         "dtype": "float64",
         "stats": {
          "unique_count": 5,
          "nan_count": 0,
          "min": "-1.7843768046087747",
          "max": "2.188549854719475",
          "histogram": [
           {
            "bin_start": -1.7843768046087747,
            "bin_end": -1.3870841386759496,
            "count": 1
           },
           {
            "bin_start": -1.3870841386759496,
            "bin_end": -0.9897914727431247,
            "count": 0
           },
           {
            "bin_start": -0.9897914727431247,
            "bin_end": -0.5924988068102999,
            "count": 0
           },
           {
            "bin_start": -0.5924988068102999,
            "bin_end": -0.1952061408774748,
            "count": 0
           },
           {
            "bin_start": -0.1952061408774748,
            "bin_end": 0.2020865250553503,
            "count": 1
           },
           {
            "bin_start": 0.2020865250553503,
            "bin_end": 0.5993791909881749,
            "count": 2
           },
           {
            "bin_start": 0.5993791909881749,
            "bin_end": 0.996671856921,
            "count": 0
           },
           {
            "bin_start": 0.996671856921,
            "bin_end": 1.393964522853825,
            "count": 0
           },
           {
            "bin_start": 1.393964522853825,
            "bin_end": 1.7912571887866502,
            "count": 0
           },
           {
            "bin_start": 1.7912571887866502,
            "bin_end": 2.188549854719475,
            "count": 1
           }
          ]
         }
        },
        {
         "name": "Outcome",
         "dtype": "int64",
         "stats": {
          "unique_count": 2,
          "nan_count": 0,
          "min": "0",
          "max": "1",
          "histogram": [
           {
            "bin_start": 0,
            "bin_end": 0.1,
            "count": 3
           },
           {
            "bin_start": 0.1,
            "bin_end": 0.2,
            "count": 0
           },
           {
            "bin_start": 0.2,
            "bin_end": 0.30000000000000004,
            "count": 0
           },
           {
            "bin_start": 0.30000000000000004,
            "bin_end": 0.4,
            "count": 0
           },
           {
            "bin_start": 0.4,
            "bin_end": 0.5,
            "count": 0
           },
           {
            "bin_start": 0.5,
            "bin_end": 0.6000000000000001,
            "count": 0
           },
           {
            "bin_start": 0.6000000000000001,
            "bin_end": 0.7000000000000001,
            "count": 0
           },
           {
            "bin_start": 0.7000000000000001,
            "bin_end": 0.8,
            "count": 0
           },
           {
            "bin_start": 0.8,
            "bin_end": 0.9,
            "count": 0
           },
           {
            "bin_start": 0.9,
            "bin_end": 1,
            "count": 2
           }
          ]
         }
        },
        {
         "name": "Predict_Outcome",
         "dtype": "int64",
         "stats": {
          "unique_count": 2,
          "nan_count": 0,
          "min": "0",
          "max": "1",
          "histogram": [
           {
            "bin_start": 0,
            "bin_end": 0.1,
            "count": 3
           },
           {
            "bin_start": 0.1,
            "bin_end": 0.2,
            "count": 0
           },
           {
            "bin_start": 0.2,
            "bin_end": 0.30000000000000004,
            "count": 0
           },
           {
            "bin_start": 0.30000000000000004,
            "bin_end": 0.4,
            "count": 0
           },
           {
            "bin_start": 0.4,
            "bin_end": 0.5,
            "count": 0
           },
           {
            "bin_start": 0.5,
            "bin_end": 0.6000000000000001,
            "count": 0
           },
           {
            "bin_start": 0.6000000000000001,
            "bin_end": 0.7000000000000001,
            "count": 0
           },
           {
            "bin_start": 0.7000000000000001,
            "bin_end": 0.8,
            "count": 0
           },
           {
            "bin_start": 0.8,
            "bin_end": 0.9,
            "count": 0
           },
           {
            "bin_start": 0.9,
            "bin_end": 1,
            "count": 2
           }
          ]
         }
        },
        {
         "name": "_deepnote_index_column",
         "dtype": "int64"
        }
       ],
       "rows": [
        {
         "Time Spent on Site": 1.3294199821613968,
         "Salary": 0.3143276405893327,
         "Outcome": 1,
         "Predict_Outcome": 1,
         "_deepnote_index_column": 474
        },
        {
         "Time Spent on Site": -0.37178673679739505,
         "Salary": -0.01575475989358857,
         "Outcome": 0,
         "Predict_Outcome": 0,
         "_deepnote_index_column": 385
        },
        {
         "Time Spent on Site": -1.0124176146412256,
         "Salary": -1.7843768046087747,
         "Outcome": 0,
         "Predict_Outcome": 0,
         "_deepnote_index_column": 167
        },
        {
         "Time Spent on Site": -1.0982432035766403,
         "Salary": 0.38029155334470705,
         "Outcome": 0,
         "Predict_Outcome": 0,
         "_deepnote_index_column": 40
        },
        {
         "Time Spent on Site": 0.6411145013014162,
         "Salary": 2.188549854719475,
         "Outcome": 1,
         "Predict_Outcome": 1,
         "_deepnote_index_column": 350
        }
       ]
      },
      "text/plain": "     Time Spent on Site    Salary  Outcome  Predict_Outcome\n474            1.329420  0.314328        1                1\n385           -0.371787 -0.015755        0                0\n167           -1.012418 -1.784377        0                0\n40            -1.098243  0.380292        0                0\n350            0.641115  2.188550        1                1",
      "text/html": "<div>\n<style scoped>\n    .dataframe tbody tr th:only-of-type {\n        vertical-align: middle;\n    }\n\n    .dataframe tbody tr th {\n        vertical-align: top;\n    }\n\n    .dataframe thead th {\n        text-align: right;\n    }\n</style>\n<table border=\"1\" class=\"dataframe\">\n  <thead>\n    <tr style=\"text-align: right;\">\n      <th></th>\n      <th>Time Spent on Site</th>\n      <th>Salary</th>\n      <th>Outcome</th>\n      <th>Predict_Outcome</th>\n    </tr>\n  </thead>\n  <tbody>\n    <tr>\n      <th>474</th>\n      <td>1.329420</td>\n      <td>0.314328</td>\n      <td>1</td>\n      <td>1</td>\n    </tr>\n    <tr>\n      <th>385</th>\n      <td>-0.371787</td>\n      <td>-0.015755</td>\n      <td>0</td>\n      <td>0</td>\n    </tr>\n    <tr>\n      <th>167</th>\n      <td>-1.012418</td>\n      <td>-1.784377</td>\n      <td>0</td>\n      <td>0</td>\n    </tr>\n    <tr>\n      <th>40</th>\n      <td>-1.098243</td>\n      <td>0.380292</td>\n      <td>0</td>\n      <td>0</td>\n    </tr>\n    <tr>\n      <th>350</th>\n      <td>0.641115</td>\n      <td>2.188550</td>\n      <td>1</td>\n      <td>1</td>\n    </tr>\n  </tbody>\n</table>\n</div>"
     },
     "metadata": {}
    }
   ]
  },
  {
   "cell_type": "markdown",
   "source": "<a style='text-decoration:none;line-height:16px;display:flex;color:#5B5B62;padding:10px;justify-content:end;' href='https://deepnote.com?utm_source=created-in-deepnote-cell&projectId=375c83c5-9c17-48bb-b813-ed40329e9d6c' target=\"_blank\">\n<img alt='Created in deepnote.com' style='display:inline;max-height:16px;margin:0px;margin-right:7.5px;' src='data:image/svg+xml;base64,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' > </img>\nCreated in <span style='font-weight:600;margin-left:4px;'>Deepnote</span></a>",
   "metadata": {
    "tags": [],
    "created_in_deepnote_cell": true,
    "deepnote_cell_type": "markdown"
   }
  }
 ],
 "nbformat": 4,
 "nbformat_minor": 1,
 "metadata": {
  "kernelspec": {
   "display_name": "Python 3",
   "language": "python",
   "name": "python3"
  },
  "language_info": {
   "codemirror_mode": {
    "name": "ipython",
    "version": 3
   },
   "file_extension": ".py",
   "mimetype": "text/x-python",
   "name": "python",
   "nbconvert_exporter": "python",
   "pygments_lexer": "ipython3",
   "version": "3.7.7"
  },
  "widgets": {
   "state": {},
   "version": "1.1.2"
  },
  "deepnote_notebook_id": "bd3591ee-ad38-45f4-98bf-c0d9d5018aa5",
  "deepnote": {},
  "deepnote_execution_queue": []
 }
}